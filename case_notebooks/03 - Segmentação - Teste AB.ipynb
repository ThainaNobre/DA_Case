{
 "cells": [
  {
   "cell_type": "markdown",
   "metadata": {
    "application/vnd.databricks.v1+cell": {
     "cellMetadata": {},
     "inputWidgets": {},
     "nuid": "57e5b3fd-988f-46f0-b47b-c3180c03c88a",
     "showTitle": false,
     "tableResultSettingsMap": {},
     "title": ""
    }
   },
   "source": [
    "### Imports"
   ]
  },
  {
   "cell_type": "code",
   "execution_count": 0,
   "metadata": {
    "application/vnd.databricks.v1+cell": {
     "cellMetadata": {
      "byteLimit": 2048000,
      "rowLimit": 10000
     },
     "inputWidgets": {},
     "nuid": "75be8cb8-6060-44b0-957b-989039e5fba2",
     "showTitle": false,
     "tableResultSettingsMap": {},
     "title": ""
    }
   },
   "outputs": [],
   "source": [
    "import requests\n",
    "import os\n",
    "from pyspark.sql import SparkSession, Window\n",
    "from pyspark.sql.functions import *\n",
    "from pyspark.sql.types import DoubleType, ArrayType, StructType, StructField, IntegerType, StringType\n",
    "from scipy.stats import ttest_ind, chi2_contingency\n",
    "import numpy as np\n",
    "import matplotlib.pyplot as plt\n",
    "from sklearn.preprocessing import StandardScaler\n",
    "from sklearn.cluster import KMeans\n",
    "from sklearn.decomposition import PCA\n",
    "from scipy.stats import skew, kurtosis\n",
    "import seaborn as sns"
   ]
  },
  {
   "cell_type": "markdown",
   "metadata": {
    "application/vnd.databricks.v1+cell": {
     "cellMetadata": {},
     "inputWidgets": {},
     "nuid": "fa1298bc-6a21-40d9-872f-2033d9db2102",
     "showTitle": false,
     "tableResultSettingsMap": {},
     "title": ""
    }
   },
   "source": [
    "### Funções"
   ]
  },
  {
   "cell_type": "code",
   "execution_count": 0,
   "metadata": {
    "application/vnd.databricks.v1+cell": {
     "cellMetadata": {
      "byteLimit": 2048000,
      "rowLimit": 10000
     },
     "inputWidgets": {},
     "nuid": "72e9714d-ff66-48b3-9198-8eb4acb18518",
     "showTitle": false,
     "tableResultSettingsMap": {},
     "title": ""
    }
   },
   "outputs": [],
   "source": [
    "def metricas_iqr(df, coluna):\n",
    "    \"\"\"\n",
    "    Calcula as métricas baseadas no intervalo interquartil (IQR) para identificar outliers em uma coluna de um DataFrame Spark.\n",
    "\n",
    "    Essa função calcula os quartis (Q1, mediana, Q3) para a coluna especificada no DataFrame,\n",
    "    define os limites inferior e superior para identificação de outliers com base no IQR, filtra os valores que são\n",
    "    considerados outliers e exibe as métricas calculadas, como os quartis, o IQR e o número de outliers encontrados.\n",
    "\n",
    "    Parâmetros:\n",
    "        df (DataFrame): DataFrame Spark contendo a coluna a ser analisada.\n",
    "        coluna (str): O nome da coluna numérica no DataFrame para a qual as métricas IQR serão calculadas.\n",
    "\n",
    "    Retorna:\n",
    "        DataFrame: Um DataFrame Spark contendo apenas os registros que são considerados outliers.\n",
    "\n",
    "    Exibe:\n",
    "        - Valor de Q1 (1º quartil), mediana e Q3 (3º quartil).\n",
    "        - Valor do IQR (intervalo interquartil).\n",
    "        - Limites inferior e superior calculados para definir os outliers.\n",
    "        - Número total de valores considerados outliers.\n",
    "    \"\"\"\n",
    "    q1, median, q3 = df.approxQuantile(coluna, [0.25, 0.5, 0.75], 0.01)\n",
    "    iqr = q3 - q1 \n",
    "\n",
    "    lower_bound = q1 - 1.5 * iqr\n",
    "    upper_bound = q3 + 1.5 * iqr\n",
    "\n",
    "    df_outliers = df.filter((col(coluna) < lower_bound) | (col(coluna) > upper_bound))\n",
    "\n",
    "    print(\n",
    "        f\"Q1: {q1}\\n\"\n",
    "        f\"Median: {median}\\n\"\n",
    "        f\"Q3: {q3}\\n\"\n",
    "        f\"IQR: {iqr}\\n\"\n",
    "        f\"Limites: inferior={lower_bound:.2f}, superior={upper_bound:.2f}\\n\"\n",
    "        f\"Número de outliers: {df_outliers.count()}\"\n",
    "    )\n",
    "    \n",
    "    return df_outliers\n",
    "\n",
    "def teste_t(controle,target,coluna):\n",
    "    \"\"\"\n",
    "    Realiza um teste T de Student para avaliar se há diferença significativa entre duas amostras em uma coluna específica.\n",
    "\n",
    "    A função executa um teste T de Student (teste de hipótese) para comparar as médias de duas amostras (controle e target) \n",
    "    com base em uma coluna fornecida. O teste visa determinar se as diferenças entre os grupos são estatisticamente \n",
    "    significativas, assumindo variâncias desiguais (Welch's t-test).\n",
    "\n",
    "    Parâmetros:\n",
    "        controle (DataFrame): DataFrame Spark representando o grupo de controle.\n",
    "        target (DataFrame): DataFrame Spark representando o grupo target.\n",
    "        coluna (str): O nome da coluna que será comparada entre os grupos.\n",
    "    \"\"\"\n",
    "    target_list = [row[coluna] for row in target.collect()]\n",
    "    control_list = [row[coluna] for row in controle.collect()]\n",
    "    \n",
    "    stat, p_value = ttest_ind(control_list , target_list, equal_var=False)\n",
    "    \n",
    "    alpha = 0.05\n",
    "    if p_value < alpha:\n",
    "        print(p_value)\n",
    "        print(\"Rejeita a hipótese nula: diferença significante.\")\n",
    "    else:\n",
    "        print(\"Não rejeita a hipótese nula: sem diferença significante.\")"
   ]
  },
  {
   "cell_type": "markdown",
   "metadata": {
    "application/vnd.databricks.v1+cell": {
     "cellMetadata": {},
     "inputWidgets": {},
     "nuid": "d320d8d1-a4cf-495e-a385-beab20e242c2",
     "showTitle": false,
     "tableResultSettingsMap": {},
     "title": ""
    }
   },
   "source": [
    "### Reads"
   ]
  },
  {
   "cell_type": "code",
   "execution_count": 0,
   "metadata": {
    "application/vnd.databricks.v1+cell": {
     "cellMetadata": {
      "byteLimit": 2048000,
      "rowLimit": 10000
     },
     "inputWidgets": {},
     "nuid": "eaa4b222-8aa5-4835-a95c-1c7c161c028e",
     "showTitle": false,
     "tableResultSettingsMap": {},
     "title": ""
    }
   },
   "outputs": [],
   "source": [
    "df_orders = spark.read.format(\"delta\").load(\"/FileStore/iFood/dataset/orders_tratado/\")\n",
    "ab_test = spark.read.format(\"delta\").load(\"/FileStore/iFood/dataset/ab_tratado\")\n",
    "df_consumer = spark.read.format(\"delta\").load(\"/FileStore/iFood/dataset/consumer_tratado/\")\n",
    "restaurant = spark.read.format(\"delta\").load(\"/FileStore/iFood/dataset/restaurant_tratado\")"
   ]
  },
  {
   "cell_type": "markdown",
   "metadata": {
    "application/vnd.databricks.v1+cell": {
     "cellMetadata": {},
     "inputWidgets": {},
     "nuid": "a5f5ff40-caa1-4dd3-932f-35cc7cbf310d",
     "showTitle": false,
     "tableResultSettingsMap": {},
     "title": ""
    }
   },
   "source": [
    "### Segmentação"
   ]
  },
  {
   "cell_type": "markdown",
   "metadata": {
    "application/vnd.databricks.v1+cell": {
     "cellMetadata": {},
     "inputWidgets": {},
     "nuid": "a16c9ac9-d7a6-49f5-a020-654aef6aedca",
     "showTitle": false,
     "tableResultSettingsMap": {},
     "title": ""
    }
   },
   "source": [
    "Para o AB em questão, escolheu-se seguir com a segmentação RFM (Recência, Frequência e Valor).\\\n",
    "Foi usado como referência o dia 01/02/2019 (após a data do teste)."
   ]
  },
  {
   "cell_type": "code",
   "execution_count": 0,
   "metadata": {
    "application/vnd.databricks.v1+cell": {
     "cellMetadata": {
      "byteLimit": 2048000,
      "rowLimit": 10000
     },
     "inputWidgets": {},
     "nuid": "d2564744-5210-4b27-8a23-ce8ef15b8403",
     "showTitle": false,
     "tableResultSettingsMap": {},
     "title": ""
    }
   },
   "outputs": [],
   "source": [
    "df_usuarios = (df_orders\n",
    "  .select(\"customer_id\",\"order_id\",\"order_reference_timestamp\",\"order_total_amount\",\"is_target\")\n",
    "  .withColumn(\"order_reference_date\", to_date(col(\"order_reference_timestamp\")))\n",
    "  .withColumn(\"days_difference\", datediff(lit(\"2019-02-01\"), col(\"order_reference_date\")))\n",
    "  .groupBy(\"customer_id\",\"is_target\")\n",
    "  .agg(\n",
    "    (sum(\"order_total_amount\")).alias(\"valor\"),\n",
    "    (countDistinct(\"order_id\")).alias(\"frequencia\"),\n",
    "    min(\"days_difference\").alias(\"recencia\")\n",
    "  )    \n",
    ")"
   ]
  },
  {
   "cell_type": "markdown",
   "metadata": {
    "application/vnd.databricks.v1+cell": {
     "cellMetadata": {},
     "inputWidgets": {},
     "nuid": "125e07b9-3c12-4795-89e6-4ee6013b1c6e",
     "showTitle": false,
     "tableResultSettingsMap": {},
     "title": ""
    }
   },
   "source": [
    "Embora algumas colunas possuam outliers (como pode ser observado abaixo), optou-se apenas por identificá-los, tendo em vista que os dados de pedidos já foram anteriormente tratados. "
   ]
  },
  {
   "cell_type": "code",
   "execution_count": 0,
   "metadata": {
    "application/vnd.databricks.v1+cell": {
     "cellMetadata": {
      "byteLimit": 2048000,
      "rowLimit": 10000
     },
     "inputWidgets": {},
     "nuid": "ce73421c-5096-4bb6-bf14-a242c37ce828",
     "showTitle": false,
     "tableResultSettingsMap": {},
     "title": ""
    }
   },
   "outputs": [
    {
     "output_type": "stream",
     "name": "stdout",
     "output_type": "stream",
     "text": [
      "Q1: 39.5\nMedian: 72.9\nQ3: 157.1\nIQR: 117.6\nLimites: inferior=-136.90, superior=333.50\nNúmero de outliers: 77623\nOut[5]: DataFrame[customer_id: string, is_target: string, valor: double, frequencia: bigint, recencia: int]"
     ]
    }
   ],
   "source": [
    "metricas_iqr(df = df_usuarios, coluna = \"valor\")"
   ]
  },
  {
   "cell_type": "code",
   "execution_count": 0,
   "metadata": {
    "application/vnd.databricks.v1+cell": {
     "cellMetadata": {
      "byteLimit": 2048000,
      "rowLimit": 10000
     },
     "inputWidgets": {},
     "nuid": "e621c465-a65c-4060-9cb1-657252022179",
     "showTitle": false,
     "tableResultSettingsMap": {},
     "title": ""
    }
   },
   "outputs": [
    {
     "output_type": "stream",
     "name": "stdout",
     "output_type": "stream",
     "text": [
      "Q1: 1.0\nMedian: 2.0\nQ3: 3.0\nIQR: 2.0\nLimites: inferior=-2.00, superior=6.00\nNúmero de outliers: 83835\nOut[6]: DataFrame[customer_id: string, is_target: string, valor: double, frequencia: bigint, recencia: int]"
     ]
    }
   ],
   "source": [
    "metricas_iqr(df = df_usuarios, coluna = \"frequencia\")"
   ]
  },
  {
   "cell_type": "code",
   "execution_count": 0,
   "metadata": {
    "application/vnd.databricks.v1+cell": {
     "cellMetadata": {
      "byteLimit": 2048000,
      "rowLimit": 10000
     },
     "inputWidgets": {},
     "nuid": "da87cff9-0661-4e56-8fdf-5feb0ab231c4",
     "showTitle": false,
     "tableResultSettingsMap": {},
     "title": ""
    }
   },
   "outputs": [
    {
     "output_type": "stream",
     "name": "stdout",
     "output_type": "stream",
     "text": [
      "Q1: 3.0\nMedian: 9.0\nQ3: 18.0\nIQR: 15.0\nLimites: inferior=-19.50, superior=40.50\nNúmero de outliers: 0\nOut[7]: DataFrame[customer_id: string, is_target: string, valor: double, frequencia: bigint, recencia: int]"
     ]
    }
   ],
   "source": [
    "metricas_iqr(df = df_usuarios, coluna = \"recencia\")"
   ]
  },
  {
   "cell_type": "markdown",
   "metadata": {
    "application/vnd.databricks.v1+cell": {
     "cellMetadata": {},
     "inputWidgets": {},
     "nuid": "d245cb91-a4fb-4255-9d86-5ca5ccbfb219",
     "showTitle": false,
     "tableResultSettingsMap": {},
     "title": ""
    }
   },
   "source": [
    "Embora a segmentação RFM pudesse ser realizada utilizando scores ou percentis, optou-se por empregar o algoritmo K-means para identificar os grupos de maneira mais dinâmica e baseada em similaridades."
   ]
  },
  {
   "cell_type": "code",
   "execution_count": 0,
   "metadata": {
    "application/vnd.databricks.v1+cell": {
     "cellMetadata": {
      "byteLimit": 2048000,
      "rowLimit": 10000
     },
     "inputWidgets": {},
     "nuid": "d17cca1a-f76b-4131-b232-ee00d46fb697",
     "showTitle": false,
     "tableResultSettingsMap": {},
     "title": ""
    }
   },
   "outputs": [],
   "source": [
    "pd_usuarios = df_usuarios.toPandas()"
   ]
  },
  {
   "cell_type": "code",
   "execution_count": 0,
   "metadata": {
    "application/vnd.databricks.v1+cell": {
     "cellMetadata": {
      "byteLimit": 2048000,
      "rowLimit": 10000
     },
     "inputWidgets": {},
     "nuid": "ab2ac1d4-f033-4c57-bfc1-2f2b28b4c555",
     "showTitle": false,
     "tableResultSettingsMap": {},
     "title": ""
    }
   },
   "outputs": [],
   "source": [
    "X = pd_usuarios[['recencia', 'frequencia', 'valor']]"
   ]
  },
  {
   "cell_type": "code",
   "execution_count": 0,
   "metadata": {
    "application/vnd.databricks.v1+cell": {
     "cellMetadata": {
      "byteLimit": 2048000,
      "rowLimit": 10000
     },
     "inputWidgets": {},
     "nuid": "dfb3b4a6-1fd6-4c88-8d63-2e3ad6e47b24",
     "showTitle": false,
     "tableResultSettingsMap": {},
     "title": ""
    }
   },
   "outputs": [],
   "source": [
    "scaler = StandardScaler()\n",
    "X_scaled = scaler.fit_transform(X)"
   ]
  },
  {
   "cell_type": "code",
   "execution_count": 0,
   "metadata": {
    "application/vnd.databricks.v1+cell": {
     "cellMetadata": {
      "byteLimit": 2048000,
      "rowLimit": 10000
     },
     "inputWidgets": {},
     "nuid": "714eaec4-7132-4922-9feb-e083d29c908e",
     "showTitle": false,
     "tableResultSettingsMap": {},
     "title": ""
    }
   },
   "outputs": [],
   "source": [
    "wcss = []\n",
    "k_values = range(1, 11)\n",
    "for k in k_values:\n",
    "    kmeans = KMeans(n_clusters=k, random_state=42)\n",
    "    kmeans.fit(X_scaled)\n",
    "    wcss.append(kmeans.inertia_)"
   ]
  },
  {
   "cell_type": "code",
   "execution_count": 0,
   "metadata": {
    "application/vnd.databricks.v1+cell": {
     "cellMetadata": {
      "byteLimit": 2048000,
      "rowLimit": 10000
     },
     "inputWidgets": {},
     "nuid": "54a49b18-0ce6-469a-b0dc-be477dfd8087",
     "showTitle": false,
     "tableResultSettingsMap": {},
     "title": ""
    }
   },
   "outputs": [
    {
     "output_type": "display_data",
     "data": {
      "image/png": "[encoded data removed]"
     },
     "metadata": {
      "application/vnd.databricks.v1+output": {
       "addedWidgets": {},
       "arguments": {},
       "data": "data:image/png;base64,iVBORw0KGgoAAAANSUhEUgAAAmEAAAFNCAYAAABIc7ibAAAAOXRFWHRTb2Z0d2FyZQBNYXRwbG90bGliIHZlcnNpb24zLjUuMSwgaHR0cHM6Ly9tYXRwbG90bGliLm9yZy/YYfK9AAAACXBIWXMAAAsTAAALEwEAmpwYAAA3TUlEQVR4nO3dd5gUVdrG4d9LzqKCCpKMuIppHYxrwJwD5syaw6cua84EdRVdc0DMWVFMa1oDmANBUVAMGAiKgihRFIH3++PU7NQ0k5me093z3NfV13RXVVe91fGZU6frmLsjIiIiInWrQewCREREROojhTARERGRCBTCRERERCJQCBMRERGJQCFMREREJAKFMBEREZEIFMIkp5jZLWZ2eS2v081szdpcZ+Z6zexeM7ustrch9YeZNTSz0Wa2W+xaasLM+pnZg7Wwnu3MbGo1ln/dzI5b1u3W9bpFQCFMssjMvjOzhWbWLmP6R0mA6ZYx/QRgobtfmJpWrQ/k2pR8qfxpZvNSl1kxask1ufjYZCtsL4vkS/x3M+ucmrajmX1XxuL/BF519xfrrMBqiPlezBYza5K8lr8ys/nJZ9bdmZ9Ny7iNPmb2dm2tTwqLQphk27fAocU3zGx9oEVZC7r7EHfvW1eFVdFj7t4qdWkbu6DaZmaNanjXvHpsqrufFtTGZ+R84OLKtgX8DlxUC9urkmV43gvJE8DewGHAcsCGwBhgh5hFpel5KmwKYZJtDwBHpW4fDdyfXsDMmprZNWY22cx+MrPBZtbczFoCLwIdU60tHZPlrzezH5LL9WbWNLW+s81sWjLvmIxtLWdm95vZDDObZGYX1dIXLUA7M3vFzOaa2Rtm1jW13S3NbJSZzU7+bplM72Vm41LLvWJmo1K33zKzfcvaWNLyc7qZfWNmP5vZ1cX7YmZrmNlwM5uZzHvIzNqm7vudmZ1rZp8A882skZmdZ2ZfJ/V/Zmb71fSBSGo7KWlhmGXhMLOl5h9vZhNS2/prMv0vSevRLDP71Mz2Tt3n3mQ9zyf3+8DM1kjmvZks9nHyOjm4uOUm2c8fgXvMbHkzey55/n9NrndKbeN1M7vczN4BfgNWL2Pfyq2xHDcChxbXWtZjBazh7je5+yJLHdpO7cM5ZjY9eV3va2a7m9mXZvaLmV2QWleD1PM408yGmtkKybxuyfNyrJlNBoYny1+UvBemJ++N5SrZn+JtrZa8zuea2StAZov35mb2bvI4fWxm26Xm/T31/H9jZidWZZvJfXcys88tvJduBixj/jHJun81s/9a6n2YsdyOwE7APu4+yt0Xuftsd7/F3e8qY/lSh1tTj2ej5HafZF/mmtm3Zna4mf0FGAxsYanWYivnMy+ZV9brtl3yWp2VPOdvWe19bklM7q6LLlm5AN8BOwJfAH8BGgJTga6AA92S5a4DngVWAFoD/wH+lczbDpiasd4BwPvASkB74F1gYDJvV+AnoAfQEng42daayfz7gWeS7XQDvgSOLaf+fsCDFexfer33AnOBbYCmwA3A28m8FYBfgSOBRoSWwV+BFYHmhBaQdkDjpPbvk/qaAwuAFSvY/ohk/V2SfTkumbcm4QumafIYvQlcn/HcjAU6A82TaQcCHQn/nB1MaMHpsAyPzXNA26S2GcCuqe18D/QkfIGumbwmGgMTgQuAJsD2yWPaPfUYzwQ2TR7Hh4BHy3o+Uq+dRcBVyePQPHnM9ye0xrYGHgeeTt3ndWAysF6yjcYZ+1VhjWU8Dq8DxwHXFj9ehPfEdxXUfS9wWcY+XJJs+/jksXw4qX+95DWyWrL8GYT3Rqdkn28HHknmdUu2dT/hvdEcOCbZn9WBVsCTwAPl7Mt2pN6LwHvJfjUlvO7npvZx1eS52p3wetopud0+mb8HsEby/G9LCLx/Le89n9pmu2Q7BySPR9/k8Sl+3e+T7M9fkufvIuDdctZ1JfBGJZ9hr6fW3Y/Uaz71eDZKHs85lLxWOwDrJdf7kHwWpO5b2Wde5uv2X4Qw1zi5bA1YXX6e65KdS/QCalQ03A1MB8ZXcfmDgM+AT4GHY9dfXy6UhLCLkg+RXYFXkg8tTz7EjPBlv0bqflsA3ybXl/pABr4Gdk/d3oXkSy15bVyZmrd2sq01CSFwIbBuav6JwOvl1N8vWX5W6jIiNT8zhKUDQStgMSHkHAmMzFj3e0Cf5PpbQG9gc+BlYGjyWPUCPqng8XWSYJPcPgV4rZxl9wU+ynhujqnk+RtLaCWo6WPzt9TtocB5yfX/AmeUsc6tgR+BBqlpjwD9Uo/xnal5uwOfl/V8pF47C4FmFezjRsCvqduvAwMqWL7CGstY/nVCCGsPzCaEpuqGsAVAw+R262T5zVLLjwH2Ta5PAHZIzesA/El4z3VL7rt6av5rwCmp292Lly9jX7YjeS8SgvUioGVq/sOUhLBzyQhzyfN+dDmP09PFrwkqDmFHAe+nbhvhH7vioPQiqX+qCAHwN6BrGeu6g9R7tqLnL/WaryiEzSIE/OYZ6+hDKoRRtc+8Uq9bwj+ez6RfJ7oUxiVfmzPvJXxJVcrM1gLOB7Zy9/WAf2SvLCnHA4Q+F33IOBRJ+HJqAYxJmtpnAS8l08vTEZiUuj0pmVY8b0rGvGLFrU2Z9121gm0Ndfe2qUuvCpb933bdfR7wS1JPZr2Z232D8MG7TXL9dULrwLbJ7Ypk7mtHADNb2cweNbPvzWwO8CAZh4sy7ouZHWVmY1PPQ48y7pNW2WPzY+r6b4RgCiGYfl3G+joCU9x9ScY+pZ+f8tZZnhnu/nvxDTNrYWa3J4ff5hBaCNuaWcPUfaYstZbq1bgUd58B3Ez4Mq2ume6+OLm+IPn7U2r+Akoeh67AU6nncALhn4GVU8un96+s91KjjOXL0pEQXudn3LdYV+DA4jqSWv5GCIWY2W5m9n5yaG0WIVBX9FpLbzf9PvOM/ekK3JDa5i+E0FPW8zOzuJ5llTwOBwMnAdMsHDJfp5zFq/KZV+p1C1xNaOF7OTnkeV5t1C3x5WUIc/c3CW+u/7HQB+YlMxuTHC8vfgMcD9zi7r8m951ex+XWe+4+idBBf3fC4Y60nwlfIuulvsyXc/fiLxUvY5U/ED5si3VJpgFMI3zJp+elt/VnGff9vhq7U5H0L+BaEQ41/FBGvZnbzQxhb1D1EJa5r8WPwxWEx259d28DHEFG3xlSj23Sb+YO4P8Ihz/bAuPLuE9tmEI4FJXpB6BzRl+XZX1+Ml8/ZxJaezZLHpdtkulWwX1qq8arCa2bm2RM/43SP1ZZpQrrKs8UYLeMcNzM3dP1pfevrPfSIkqHvLJMA5a30G8zfd90HQ9k1NHS3a+00H9zGHANsHLyWnuBqr3WSr2/zcwo/R6YApyYsd3m7v5uGet6FdjUUn0CKzGfCp4nd/+vu+9ECHafE95PsPTrqbLPvKXu4+5z3f1Md1+d8EOCf5pZzvx4QGouL0NYOYYAp7n7JsBZwK3J9LWBtc3sneQ/ryq1oEmtOxbYPuM/Z5IWhTuA68xsJQAzW9XMdkkW+QlYMaOz8CPARWbW3sLpLy4htPRAOOzVx8zWNbMWwKWpbS1O5l9uZq2T4PHP1H2X1e5m9jczawIMJBw2mUL4glnbzA6z0AH+YGBdQp8pCH3auhP6Oo10908JX4ybEVpqKnK2hc7mnQn9gR5LprcG5gGzzWxV4OxK1tOS8ME/A0LHaUJLWDbcCZxlZptYsGbyXHxACCTnmFljCx259wIereJ6f6KMjvQZWhO+AGdZ6LB+aSXLZ6pxje4+C/g3cE7GrLHAYRbOE7YrIXzX1GDC67srQPIe2aeC5R8B+lroZN+KEN4fc/dFFW0k+cdqNNDfwmke/kZ4HIo9COxlZrsk+9Us6XDeidCXrinhtbbIwnnRdq7i/j0PrGdmvS10iD+d0mFoMHC+ma2X7P9yZnZgOfvwKqF7xFPJa7FR8rlwkmX8oCcxFtjGzLokn0fnF89IWp73SULpH4T3XnFr6U9Ap+RzoSqfeUsxsz2T94kRDmsvTq1f8lhBhLDkw2NL4HEzG0vojFrczNwIWIvQ0nAocIelfiUmdcPdv3b30eXMPpfQ1P5+cojoVUIowd0/J3xRfJM03XcELiN8AXwCjAM+TKbh4RxL1wPDk3UOz9jWaYT/aL8B3ib0Y7m7gtIPttLnwppX/MFZhocJX+q/EFo7jkhqmgnsSWiFmUn4Et7T3X9O5s9P9uFTd1+YrOs9YFIVWm6fIfQJGkv4gir+VVd/4K+ED+znWboFshR3/4wQEN4jfGmsD7xTybar89ikt/U4cDnh8ZpL6A+0QrLvewG7EVoLbgWOSl4DVdEPuC95nRxUzjLXEzo6/0zowP5SFdddXPuy1ngD4Qs07YxknbOAwwmPR03dQOjw/bKZzSXs42YVLH83obvAm4TW6t8J75GqOCxZ9y+E1/3/uhok/3zsQ/gBwwxCC9XZhL50cwnhaSjhByqHJTVXKnnPHEjoVD+T8Nn+Tmr+U4QO7Y8mnyXjCc9VeQ4g/JP0GOG9Mh4oInwGZW77lWS5TwjvuedSsxsQ/qH7gfB4bAucnMwbTuiP/KOZ/ZxMK/czrxxrJcvMI7xHb3X3ERUsL3nCwiH1/GPhZHrPuXsPM2sDfOHuSx3fN7PBwAfufk9y+zVCB+FRmcuK5BMLpzZYy90nxq5FRESqryBawtx9DvBtcbNzcohjw2T204RWMJJDV2sTWkFEREREosnLEGZmjxCaZLtbOKndsYRm/GPN7GNC029xP4j/AjPN7DPCOZXOTg4PiYiIiESTt4cjRURERPJZXraEiYiIiOS7rIUwM+tsZiMsjAv3qZmdUcYy21kY/2tscrkkW/WIiIiI5JJsjs6+CDjT3T80s9aEswO/kvwUPu0td9+zqitt166dd+vWrTbrFBEREcmKMWPG/OzuZY4Ck7UQ5u7TCGc3xt3nmtkEwtARmSGsWrp168bo0eWdbkpEREQkd5hZ5rB1/1MnfcKSc3ptTDjbdKYtzOxjM3ux+CzHIiIiIoUum4cjgf+dzX4Y8I/kfF5pHxJGt59nZrsTzum1VhnrOAE4AaBLly6Zs0VERETyTlZbwsysMSGAPeTuSw2b4u5z3H1ecv0FoHFyQtXM5Ya4e5G7F7VvX+ZhVREREZG8ks1fRxphHLsJ7n5tOcuskiyHmW2a1KMTqYqIiEjBy+bhyK2AI4FxyaDaEAZz7QLg7oMJg6eebGaLgAXAIa6zx4qIiEg9kM1fR74NWCXL3AzcnK0aRERERHKVzpgvIiIiEoFCWMqgQTBiROlpI0aE6SIiIiK1SSEspWdPOOigkiA2YkS43bNn3LpERESk8CiEpfTqBffdB3vtBeeeGwLY0KFhuoiIiEhtUgjL0L49zJ8fDkGefLICmIiIiGSHQliGefOgSRNo2hRuvXXpPmIiIiIitUEhLKW4D9hNN8Eff8Duu5fuIyYiIiJSWxTCUkaNCn3ATjgBeveGp5+GO+8M00VERERqk0JYyjnnlPQB698/HJr84IMwXURERKQ2KYSVo0cPOPhguPFGmDEjdjUiIiJSaBTCKnDppbBggU7WKiIiIrVPIawC66wDhx8Ot9wCP/4YuxoREREpJAphlbjkEli4EP71r9iViIiISCFRCKvEmmtCnz4weDBMnRq7GhERESkUCmFVcNFF4A5XXBG7EhERESkUCmFV0K0bHHtsOGfYpEmxqxEREZFCoBBWRRdeCA0awMCBsSsRERGRQqAQVkWdOsGJJ8K998LEibGrERERkXynEFYN550HjRurNUxERESWnUJYNXToAKeeCg8+CJ9/HrsaERERyWcKYdV07rnQvHkYW1JERESkphTCqql9ezjtNHjsMRg/PnY1IiIikq8UwmrgrLOgVSvo1y92JSIiIpKvFMJqYMUVoW9fGDYMxo6NXY2IiIjkI4WwGurbF9q2DWNLioiIiFSXQlgNtW0LZ54J//kPjBwZuxoRERHJNwphy+CMM8KhyUsvjV2JiIiI5BuFsGXQujWccw689BK8+27sakRERCSfKIQto1NPhZVWgosvjl2JiIiI5BOFsGXUsmUYzmj4cHj99djViIiISL5QCKsFJ50EHTuGX0q6x65GRERE8oFCWC1o3hwuuADeegtefTV2NSIiIpIPFMJqyXHHQefOoW+YWsNERESkMgphtaRpU7joIvjgA3jxxdjViIiISK5TCKtFf/87rLaa+oaJiIhI5RTCalHjxiGAjRkDzzwTuxoRERHJZQphteyII2CttUIYW7IkdjUiIiKSqxTCalmjRmEYo3HjYNiw2NWIiIhIrlIIy4JDDoF11w1hbPHi2NWIiIhILlIIy4KGDaFfP5gwAR59NHY1IiIikosUwrJk//1hgw2gf39YtCh2NSIiIpJrFMKypEGDEMC++goefDB2NSIiIpJrFMKyaJ99YJNNYMAA+PPP2NWIiIhILlEIyyKzEMC+/RbuuSd2NSIiIpJLFMKybLfdYLPN4LLL4I8/YlcjIiIiuUIhLMvMYOBAmDIF7rwzdjUiIiKSKxTC6sCOO8LWW8Pll8OCBbGrERERkVygEFYHilvDpk2DwYNjVyMiIiK5QCGsjmy7LWy/PVx5JcyfH7saERERiS1rIczMOpvZCDP7zMw+NbMzyljGzOxGM5toZp+Y2V+zVU8uGDgQpk+HW26JXYmIiIjEls2WsEXAme6+LrA5cKqZrZuxzG7AWsnlBOC2LNYT3ZZbwq67wqBBMHdu7GpEREQkpqyFMHef5u4fJtfnAhOAVTMW2we434P3gbZm1iFbNeWCAQNg5ky44YbYlYiIiEhMddInzMy6ARsDH2TMWhWYkro9laWDWkHp2RP22gv+/W+YNSt2NSIiIhJL1kOYmbUChgH/cPc5NVzHCWY22sxGz5gxo3YLjGDAgBDArrsudiUiIiISS1ZDmJk1JgSwh9z9yTIW+R7onLrdKZlWirsPcfcidy9q3759doqtQxttBPvvH0LYzJmxqxEREZEYsvnrSAPuAia4+7XlLPYscFTyK8nNgdnuPi1bNeWSfv1g3jy45prYlYiIiEgM2WwJ2wo4EtjezMYml93N7CQzOylZ5gXgG2AicAdwShbrySk9esDBB8ONN4bTVoiIiEj9Yu4eu4ZqKSoq8tGjR8cuo1Z88QWsuy707asWMRERkUJkZmPcvaiseTpjfkTdu8MRR4STt06rFwdhRUREpJhCWGSXXAJ//gn/+lfsSkRERKQuKYRFtsYa0KcP3H47TJ0auxoRERGpKwphOeDii8EdLr88diUiIiJSVxTCckDXrnDccXDXXfDdd7GrERERkbqgEJYjLrgAGjSAgQNjVyIiIiJ1QSEsR3TqBCeeCPfdBxMnxq5GREREsk0hLIecfz40aRLGlhQREZHCphCWQ1ZZBU49FR56CD7/PHY1IiIikk0KYTnmnHOgefMwtqSIiIgULoWwHNO+PZx+OgwdCuPGxa5GREREskUhLAeddRa0bq3WMBERkUKmEJaDVlghDOr95JPw0UexqxEREZFsUAjLUf/4B7RtG8aWFBERkcKjEJaj2rYNhyWfew5GjoxdjYiIiNQ2hbAcdvrpsOKKag0TEREpRAphOax1azj3XPjvf+Gdd2JXIyIiIrVJISzHnXIKrLQSXHxx7EpERESkNimE5biWLcNwRiNGhIuIiIgUBoWwPHDSSdCxY+gb5h67GhEREakNCmF5oFkzuPBCePtteOWV2NWIiIhIbVAIyxPHHgudO4e+YWoNExERyX8KYXmiadMQwEaOhBdeiF2NiIiILCuFsDzSpw+stpr6homIiBQChbA80rhxCGAffghPPx27GhEREVkWCmF55ogjYO214dJLYcmS2NWIiIhITSmE5ZlGjUIAGzcOnngidjUiIiJSUwpheejgg2HddaFfP1i8OHY1IiIiUhMKYXmoYcMQwCZMgEceiV2NiIiI1IRCWJ7af3/YYAPo3x8WLYpdjYiIiFSXQlieatAABgyAiRPhgQdiVyMiIiLVpRCWx/beGzbZJISxhQtjVyMiIiLVoRCWx8xCAPvuO7jnntjViIiISHUohOW53XaDzTeHyy6DP/6IXY2IiIhUlUJYnjODgQNh6lS4447Y1YiIiEhVKYQVgB12gG22gSuugAULYlcjIiIiVaEQVgCK+4ZNmwa33Ra7GhEREakKhbACse22oUXsyith/vzY1YiIiEhlFMIKyMCBMGMG3Hxz7EpERESkMgphBWSLLcKvJQcNgjlzYlcjIiIiFVEIKzD9+8Mvv8ANN8SuRERERCqiEFZgevYMZ9L/979h1qzY1YiIiEh5FMIK0IABMHs2XHtt7EpERESkPAphBWjDDeGAA+D662HmzNjViIiISFkUwgpUv34wbx5cfXXsSkRERKQsCmEFar314JBD4KabYPr02NWIiIhIJoWwAnbppfD773DVVbErERERkUwKYQWse3c44gi49Vb44YfY1YiIiEiaQliBu+QS+PPPMJyRiIiI5I6shTAzu9vMppvZ+HLmb2dms81sbHK5JFu11GdrrAF//zvcfjtMmRK7GhERESmWzZawe4FdK1nmLXffKLkMyGIt9dpFF4E7XH557EpERESkWNZCmLu/CfySrfVL1XXtCscdB3fdBd9+G7saERERgfh9wrYws4/N7EUzWy9yLQXtwguhYUO47LLYlYiIiAjEDWEfAl3dfUPgJuDp8hY0sxPMbLSZjZ4xY0Zd1VdQVl0VTjoJ7rsPJk6MXY2IiIhEC2HuPsfd5yXXXwAam1m7cpYd4u5F7l7Uvn37Oq2zkLRuHVrD+vcvmTZiBAwaFK8mERGR+ipaCDOzVczMkuubJrVopMMs2n77EMIefBAmTAgB7KCDoGfP2JWJiIjUP42ytWIzewTYDmhnZlOBS4HGAO4+GDgAONnMFgELgEPc3bNVj0CvXvDQQ9C7N+yxB8ydC0OHhukiIiJStyzfck9RUZGPHj06dhl5bc894fnnYYst4N13Y1cjIiJSuMxsjLsXlTWvwsORZtbTzFZJ3T7KzJ4xsxvNbIXaLlSyb8QI+OADKCqC996D88+PXZGIiEj9VFmfsNuBhQBmtg1wJXA/MBsYkt3SpLYV9wEbOjS0gG24YRjO6NZbY1cmIiJS/1QWwhq6e/EJVw8Ghrj7MHe/GFgzu6VJbRs1qqQPWOPG8OqrsMoqcN558P33sasTERGpXyoNYWZW3Hl/B2B4al7WOvVLdpxzTulO+O3awSuvhCGN9t0XFiyIVpqIiEi9U1kIewR4w8yeIfyC8S0AM1uTcEhS8lyPHuGUFWPGhKGN8ux3GiIiInmrwhDm7pcDZxIG4/5b6hQSDYDTslua1JV99gnDGT38sE7cKiIiUlcqPKRoZi2AMe7+Z3K7O7A7MMndn6yD+qSOnH8+fPJJ+LveeuE0FiIiIpI9lR2OfAnoBv87BPkesDpwqpn9K7ulSV0yg7vvho03hsMOg08/jV2RiIhIYasshC3v7l8l148GHnH304DdALWVFJgWLeDpp8PfvfeGmRpESkREJGsqC2HpbtrbA68AuPtCYEm2ipJ4OneGp56CqVPDOcX+/DN2RSIiIoWpshD2iZldY2Z9CecFexnAzNpmuzCJZ4stYMgQGD4czjwzdjUiIiKFqbIQdjzwM6Ff2M7u/lsyfV3gmizWJZEdfTT8859w001wxx2xqxERESk8lZ1wtRXwH3fP7KY9m9BpXwrYVVeFDvqnngrrrANbbx27IhERkcJRWUvYTcCKZUxfAbih9suRXNKoETz6KKy2GvTuDZMmxa5IRESkcFQWwtZ09zczJ7r7W8AG2SlJcknbtvDss6GD/t57w7x5sSsSEREpDJWFsNYVzGtcm4VI7ureHR57DMaPhz59YIl+FysiIrLMKgthE81s98yJZrYb8E12SpJctMsucPXVMGwYDBwYuxoREZH8V1nH/H8Az5vZQcCYZFoRsAU6WWu907dvGNqoX78w8Pf++8euSEREJH9V1hK2B3AE8A7QNbm8AWzg7l9muTbJMWYweDBsvjkcdRSMHRu7IhERkfxVWQjrBFwPDAJ6AguB6UCL7JYluapZs3BG/RVWgH32genTY1ckIiKSnyoMYe5+lrtvCawMnA/8AvwdGG9mn9VBfZKDVlkljDE5fXo4JLlwYeyKRERE8k9lLWHFmgNtgOWSyw/AB9kqSnLfJpvAPffA22+Hk7m6V34fERERKVFhx3wzGwKsB8wlhK53gWvd/dc6qE1y3CGHwLhxcMUVsMEGcNppsSsSERHJH5W1hHUBmgI/At8DU4FZWa5J8sjAgaFvWN++8OqrsasRERHJH5X1CduV0CG/eLDuM4FRZvaymfXPdnGS+xo0gAceCGNLHnQQTJwYuyIREZH8UGmfMA/GAy8ALxJOV7EGcEaWa5M80bp1GNrILAxtNGdO7IpERERyX4UhzMxON7NHzWwy4fxgewKfA70Jg3iLALD66vDEE/Dll3DYYbB4ceyKREREcltlLWHdgMeBzdx9DXc/0t1vc/eP3V0jCEopvXrBjTfC88/DhRfGrkZERCS3VfjrSHf/Z10VIoXhlFPCLyavugrWXx8OPzx2RSIiIrmpqucJE6myG26AbbeFY4+FUaNiVyMiIpKbFMKk1jVpAo8/Dh06wL77wg8/xK5IREQk9yiESVa0bw/PPAOzZ8N++8Hvv8euSEREJLcohEnWbLBBOIfYyJFw/PEa2khERCRNIUyyar/9wln1H3wQrrmm8uVFRETqC4UwyboLL4QDD4Rzz4UXXohdjYiISG5QCJOsM4N77oGNNoJDD4UJE2JXJCIiEp9CmNSJli3h6aehWbMwtNGvv8auSEREJC6FMKkzXbrAk0/CpElhsO9Fi2JXJCIiEo9CmNSprbaCwYPh1VfhrLNiVyMiIhJPhcMWiWTDMceEoY2uvz4MbXTssbErEhERqXtqCZMorr4adtoJTj4Z3nkndjUiIiJ1TyFMomjUCB57DLp1g969YfLk2BWJiIjULYUwiWb55eHZZ8OQRvvsA/Pnx65IRESk7iiESVTrrAOPPgoffwx9+mhoIxERqT8UwiS63XaDQYPgiSfgsstiVyMiIlI39OtIyQlnngmffAKXXAI9eoQxJ0VERAqZWsIkJ5jBkCGw2WZw5JEhkImIiBQyhTDJGc2awVNPwXLLhaGNZsyIXZGIiEj2KIRJTunQIYwx+dNPcMABsHBh7IpERESyI2shzMzuNrPpZja+nPlmZjea2UQz+8TM/pqtWiS/9OwJd90Fb74Jp52mX0yKiEhhymZL2L3ArhXM3w1YK7mcANyWxVokzxx2GJx3XugndpteGSIiUoCyFsLc/U3glwoW2Qe434P3gbZm1iFb9Uj+uewy2HNPOP10GD48djUiIiK1K2afsFWBKanbU5NpSzGzE8xstJmNnqHe2vVGw4bw0EPQvTsceCB8/XXsikRERGpPXnTMd/ch7l7k7kXt27ePXY7UoTZtwtBG7uEXk3PmxK5IRESkdsQMYd8DnVO3OyXTREpZYw14/HH44gs44ghYsiR2RSIiIssuZgh7Fjgq+ZXk5sBsd58WsR7JYTvsANdfD//5D1x8cexqREREll3Whi0ys0eA7YB2ZjYVuBRoDODug4EXgN2BicBvwN+zVYsUhlNPDWfSv+KKMLTRoYfGrkhERKTmshbC3L3Cr0h3d+DUbG1fCo8Z3HwzfP45HHMMrLUWFBXFrkpERKRm8qJjvkixJk1g2DBYeWXYd1+YpgPYIiKSpxTCJO+0bw/PPAO//gr77Qe//x67IhERkepTCJO8tOGG8MAD8MEHcNJJGtpIRETyj0KY5K3evaF/f7jvPrj22tjViIiIVI9CmOS1iy6CAw6Ac86BF1+MXY2IiEjVKYRJXmvQAO69F9ZfHw45JPxyUkREJB8ohEnea9kydNRfvBh22il02C82YgQMGhSvNhERkfIohElB6No1nMR16lTYeWdYtCgEsIMOgp49Y1cnIiKytKydrFWkrp1+OkyZAtdcA1tuCd9+C0OHQq9esSsTERFZmlrCpKBcfTVsuimMGhUOT37/ffgrIiKSaxTCpKCMGAHffBMOQ86ZA0ceGTrtDx0KS5bErk5ERKSEQpgUjOI+YEOHwmOPwX//C61bw2+/wcEHw0YbwVNP6cSuIiKSGxTCpGCMGlW6D9gOO4RfTZ50Ejz0EPzxRzjB6yabwHPPKYyJiEhc5nn2TVRUVOSjR4+OXYbkoUWLQhgbMCAcstx003B9553BLHZ1IiJSiMxsjLsXlTVPLWFSbzRqBEcfHU7oescd8OOPsOuusPXWMHx47OpERKS+UQiTeqdxYzjuOPjqK7j1Vvjuu3DoslcvePvt2NWJiEh9oRAm9VaTJnDyyTBxItxwA0yYEFrFdt4Z3n8/dnUiIlLoFMKk3mvWLJzo9ZtvwnnGPvoIttgC9tgDxoyJXZ2IiBQqhTCRRIsWcNZZ4Uz7V1wB770HRUWw777wySexqxMRkUKjECaSoVUrOP/80Fesf394/XXYcMNwDrLPPotdnYiIFAqFMJFytGkDl1wSWsYuughefBF69IDDD4cvv4xdnYiI5DuFMJFKLL88DBwYwtg558DTT8Nf/gJ9+oR+ZCIiIjWhECZSRe3awZVXhuB1xhlhaKTu3eH442HSpNjViYhIvlEIE6mmlVeGa6+Fr78OQyLdfz+stRaccgp8/33s6kREJF8ohInUUMeOcNNN4TxjxxwTzsK/xhqhlezHH2NXJyIiuU4hTGQZde4MgweHM/AffjjccgusvjqcfTbMmBG7OhERyVUKYSK1pFs3uOuuMDblAQeEQ5arrQYXXAC//BK7OhERyTUKYSK1bM01Qz+xTz+FPfcMnfm7dYNLL4VZs2JXJyIiuUIhTCRL1lkHHn0UPv4YdtoJBgwILWOXXQZz58auTkREYlMIE8my9deHYcPgww/DAOEXXxzC2FVXwfz5sasTEZFYFMJE6sjGG8Ozz8LIkdCzJ5x3XujAf911sGBB7OpERKSuKYSJ1LGePcMQSO+8E1rJ/vnPcGqLm2+GP/6IXZ2IiNQVhTCRSLbcEl59NQwQvuaacNpp4e/tt8PChbGrExGRbFMIE4ls223hjTfglVegU6dwFv7u3eHuu2HRotjViYhItiiEieQAM9hxR3j3XXjhhTBO5bHHhoHCH3gAFi+OXaGIiNQ2hTCRHGIGu+0WOu8/8wy0bAlHHQU9eoQBw6+6CkaMKH2fESNg0KA49YqISM0phInkIDPYe+9wWosnnoCGDeGQQ8LwSPvuC6+9FpYbMQIOOih09hcRkfyiECaSwxo0gP33Dyd8ffhhaNIE5syBXXaBHXaA/faDBx+EXr1iVyoiItWlECaSBxo2hEMPDUMh3XcfrLACDB8Os2fDXnvBFlvAWWfBU0/BTz/FrlZERKpCIUwkjzRqBJ07gzuceSa0aQO9e4eQdtNN4foqq8Baa8HRR8OQISG4LVkSu3IREcnUKHYBIlJ1xX3Ahg4NhyD32KPk9pZbwpgx4SSw774bTgh7//3hfssvH1rLttoqLLfpptCiRdx9ERGp7xTCRPLIqFElAQzC36FDw/RevULA2nLLMM8dJk4Moaz48sILYV6jRmEYpa22Krl06BBnn0RE6itz99g1VEtRUZGPHj06dhkieWnmTHjvvdBS9s474VQYv/8e5q22WghwxaFsvfXCYU4REak5Mxvj7kVlzlMIE6m/Fi6Ejz4qOYT5zjvw449hXps2pQ9hbrYZtGoVt14RkXyjECYiVeIO335b+hDmp5+G6Q0bwoYblj6E2alT7IpFRHKbQpiI1NisWaUPYX7wAfz2W5jXuXPpULb++qG/mYiIBAphIlJr/vwznDw23Vr2ww9hXqtWsPnmJX3LNt88HNYUEamvFMJEJGvcYfLk0qFs3LhwbrIGDULrWLq1rEuXMCyTiEh9EC2EmdmuwA1AQ+BOd78yY34f4Grg+2TSze5+Z0XrVAgTyX1z5sD775ccwnz/fZg3L8zr2LF0KNtwQ2jcOMwbNCiMg5kehmnEiHAKjnPOqfv9EBFZVhWFsKz13jCzhsAtwE7AVGCUmT3r7p9lLPqYu/9ftuoQkbrXpg3svHO4ACxaFFrHilvK3n0XHn88zGvRIpw8dqutwuHMAw8M83r1Kn1yWhGRQpPNLrSbAhPd/RsAM3sU2AfIDGEiUuCKTw678cbwf8m/XFOnlj6EeeWVsHhxmLfTTuEw5ldfQb9+sO664bCnDmOKSCHJZghbFZiSuj0V2KyM5fY3s22AL4G+7j6ljGVEpMB06gQHHxwuEA5XjhwZAtm998LYsWH62WeHS7t2IZj16FHyt0cPaN061h6IiCyb2D8m/w/wiLv/YWYnAvcB22cuZGYnACcAdOnSpW4rFJE60aoVbL99aO268Ua4+GK49VY4//zQkjZuHIwfD3ffDfPnl9yva9elw9k660CTJvH2RUSkKrIZwr4HOqdud6KkAz4A7j4zdfNOYFBZK3L3IcAQCB3za7dMEckVmQOU9+pVcvuMM8IyS5bApEkloaz470svhb5nEELb2msvHc5WWy38YlNEJBdkM4SNAtYys9UI4esQ4LD0AmbWwd2nJTf3BiZksR4RyXGVDVAOIUSttlq47L13yX0XLoQvvywdzkaOhMceK1mmRYswJmZmOFt5ZfU3E5G6l+1TVOwOXE84RcXd7n65mQ0ARrv7s2b2L0L4WgT8Apzs7p9XtE6dokJEqmPuXPjss6VbzqZPL1lG/c1EJFt0slYRkQzTp5cOZcV/1d9MRGpTlPOEiYjkspVWCj8E2D71U6Di/maZ4Uz9zUQkGxTCREQS6f5me+1VMr24v1k6nNWkv5lGBBCRNIUwEZFKNGlS0k/skENKps+bB59+WjqcPfdcOI1GsXbtSkJZ48bQuzc88ADsuadGBBCp79QnTESklhX3N0uHs/HjS8bPhDC002+/wTbbQFERdO4cBjfv3DlcVlxRv9gUKQTqmC8iEtmSJTB5cghl110XWsG6dAl9zKZODYc805o3Lwlk6Us6qOnXmyK5Tx3zRUQia9AAunWDb78NQezii+G228KhyG23hRkzQkibMqX0ZfJkeOUVmDYtBLm05ZYrHcoyg1qnTtC0aZTdFZEqUAgTEakjFY0I0KtX6MTfs2fZ9/3zzxDEygtqI0fCzz8vfb+VVqo4qHXoAA0bZne/RaRsCmEiInWkKiMClKdx4xCcKho+d8GCcGizrKD2xRfw6qvh5LVpDRtCx44VB7V27areP02/ABWpOvUJExGpR2bPLmk9K6tFbepU+OOP0vdp1iwc2qwoqLVpE5bNbO3LvC1S36hPmIiIAKEf2XLLhdNmlMU99E9LB7N0UHvtNfjhh6X7p7VpUxLKNt88nIJju+3grbdC/7dWrWDiRFh+eWjbVodARUAtYSIiUk2LFoX+aeUFtcmTQ5CrSJs2IZBV5dK2benbjdR8IHlELWEiIlJrGjUqORxZluJDkEccAffdB/36hVEIfv217MusWaHPWvHtBQsq3n6rVjUPcMs67qf6vEltUggTEZFak9kHbO+9S26nh4KqyO+/h2BWXmjLvEycWHL9t98qXneLFjUPcM2ahQBWXp83kepSCBMRkVqzLL8ALdasGayySrhU18KFS7eyVRTgvvsOPvooXE+PaFBeXcsvDy1bws47h9a9yZNh991DGBs7tiS4Zf5t3VojIMjS1CdMRESEcC62qrbAffghTJoUfuQA4VenFWnQIASy4ktZQa2ivzrpbv5SnzAREZFKNG4M7duHS0WKD0GmRz3YZhuYM6ckxKX/ljXt11/Dr0yLb//+e8XbbN685gGuTZsQAqtCfd7qlkKYiIhIFVU26sHyy4fDlNVV3A+uvMCWOe/HH+Hzz0tuV3RQyyy02FUlsC1eDL17h/FNd9klHKo9+mj1ecsWHY4UERGpolxsKVqyJIyEUFmIK69lrrIfM0D4RWrr1iV/q3q9rHmtWsU9T1xdP4cVHY5UCBMREanHFi5cOpwNGQJPPgk77ghbbhlC3rx54W951yv7YUNaixbVD3QVXW/cuOrbrutRHdQnTERERMrUpEkY6H2llcLtESPgzTdL+rxdcEHVwsmSJTB/fuVhrbzrM2bAt9+Wnp45MkN5mjatXnA75hjYd1849FAYNizesFoKYSIiIgJU3uetIg0alIScDh2WvRb3cOLe6oa54susWWEEh/S8RYtKb+P220PYjDWuqUKYiIiIALVznrfaYhYOW7ZoASuvvOzrcw+D08+bBy+/DP/3f3DkkaG1rzhw1jX1CRMREZF6I5f6hFXxzCEiIiIi+a+i1r66ppYwERERkSxRS5iIiIhIjlEIExEREYlAIUxEREQkAoUwERERkQgUwkREREQiUAgTERERiUAhTERERCQChTARERGRCPLuZK1mNgOYFLuOAtAO+Dl2EbJM9BzmNz1/+U/PYf6ri+ewq7u3L2tG3oUwqR1mNrq8M/hKftBzmN/0/OU/PYf5L/ZzqMORIiIiIhEohImIiIhEoBBWfw2JXYAsMz2H+U3PX/7Tc5j/oj6H6hMmIiIiEoFawkREREQiUAirR8yss5mNMLPPzOxTMzsjdk1SM2bW0Mw+MrPnYtci1Wdmbc3sCTP73MwmmNkWsWuS6jGzvsnn6Hgze8TMmsWuSSpmZneb2XQzG5+atoKZvWJmXyV/l6/LmhTC6pdFwJnuvi6wOXCqma0buSapmTOACbGLkBq7AXjJ3dcBNkTPZV4xs1WB04Eid+8BNAQOiVuVVMG9wK4Z084DXnP3tYDXktt1RiGsHnH3ae7+YXJ9LuGDf9W4VUl1mVknYA/gzti1SPWZ2XLANsBdAO6+0N1nRS1KaqIR0NzMGgEtgB8i1yOVcPc3gV8yJu8D3Jdcvw/Yty5rUgirp8ysG7Ax8EHkUqT6rgfOAZZErkNqZjVgBnBPckj5TjNrGbsoqTp3/x64BpgMTANmu/vLcauSGlrZ3acl138EVq7LjSuE1UNm1goYBvzD3efErkeqzsz2BKa7+5jYtUiNNQL+Ctzm7hsD86njQyCybJJ+Q/sQAnVHoKWZHRG3KllWHk4XUaenjFAIq2fMrDEhgD3k7k/GrkeqbStgbzP7DngU2N7MHoxbklTTVGCquxe3Qj9BCGWSP3YEvnX3Ge7+J/AksGXkmqRmfjKzDgDJ3+l1uXGFsHrEzIzQD2WCu18bux6pPnc/3907uXs3Qkfg4e6u/8DziLv/CEwxs+7JpB2AzyKWJNU3GdjczFokn6s7oB9X5KtngaOT60cDz9TlxhXC6petgCMJrSdjk8vusYsSqYdOAx4ys0+AjYAr4pYj1ZG0Yj4BfAiMI3yX6uz5Oc7MHgHeA7qb2VQzOxa4EtjJzL4itHBeWac16Yz5IiIiInVPLWEiIiIiESiEiYiIiESgECYiIiISgUKYiIiISAQKYSJSa8zs1ORkwCIiUgmFMBGplJm5mf07dfssM+uXscwRwIruPq+u6yuPmX1nZu2qsXxjM7vSzL4ysw/N7D0z260m60qtczszy8qJPC0YbmZtzKybmY0vY5n1zezebGxfRJaNQpiIVMUfQO9KQkhDYGA2Np4MklwXBgIdgB7u/lfCYL6tl3Gd21HNs6lXY393Bz6uaPgxdx8HdDKzLtWpQUSyTyFMRKpiEeFklH0zZ5jZvWZ2gLvf5+5uZvOS6duZ2Rtm9oyZfZO0MB1uZiPNbJyZrZEs197MhpnZqOSyVTK9n5k9YGbvAA8kLT3DzewTM3utrFBhZiua2ctm9qmZ3QlYat4RybbHmtntZtYw474tgOOB09z9DwB3/8ndh2YsV6rFKd0qaGanm9lnSY2Pmlk34CSgb7Ldrauxv+ul6v3EzNYq43k5nDLO8G1mqyeDg/dMJv2HMMKCiOQQhTARqapbgMPNbLlq3GdDQgj5C2G0hrXdfVPgTsJZ4wFuAK5z957A/sm8YusCO7r7ocBNwH3uvgHwEHBjGdu7FHjb3dcDngK6AJjZX4CDga3cfSNgMSHApK0JTF7GQe3PAzZOajzJ3b8DBif7t5G7v1WN/T0JuCGpt4gw5mSmrYBSg7knwyENA/q4+6hk8mhg62XYLxHJgrpq4heRPOfuc8zsfuB0YEEV7zbK3acBmNnXwMvJ9HFAr+T6jsC6YQg+ANqkOvc/6+7F29oC6J1cfwAYVMb2tilext2fN7Nfk+k7AJsAo5LtNCc7A/V+QhiO6Gng6XKWqer+vgdcaGadgCfd/asy1rWCu89N3W5PaBnr7e7p8SinAx2ruzMikl0KYSJSHdcTxsu7JzVtEUmrupk1AJqk5v2Rur4kdXsJJZ8/DYDN3f339IaSkDK/luo2Qiva+RUsMxHoYmZtKmkN+9/+Jpqlru9BCIJ7EQLU+mXcv0r76+4Pm9kHyTpfMLMT3X14Zi1m1sDdlyS3ZxMGl/4bpQcFb0bVg7OI1BEdjhSRKnP3X4ChwLGpyd8RWpkA9gYaV3O1L1NyaBIz26ic5d6lpF/T4cBbZSzzJnBYsp7dgOWT6a8BB5jZSsm8Fcysa/qO7v4bcBdwg5k1SZZrb2YHZmzjJ2ClpP9ZU2DPZNkGQGd3HwGcCywHtALmUrpzf5X218xWB75x9xsJrVsblLHYF8DqqdsLgf2Ao8zssNT0tYGlfjkpInEphIlIdf0bSP9K8g5gWzP7mHDIsLqtV6cDRUnn888IfaHKchrwdzP7hNC/7IwylukPbGNmnxIOS04GSA7NXQS8nNz/FcKvIDNdBMwAPks63z8HlGoVc/c/gQHAyGQ9nyezGgIPmtk44CPgRnefRegUv19xx/xq7O9BwHgzGwv0AO4vY5nnCb++TNc3nxAM+5rZ3snkXsmyIpJDzN1j1yAiIjVgZh2A+919pwqWaQq8AfzN3RfVWXEiUim1hImI5KnkRw93mFmbChbrApynACaSe9QSJiIiIhKBWsJEREREIlAIExEREYlAIUxEREQkAoUwERERkQgUwkREREQiUAgTERERieD/AclSHvjqBETLAAAAAElFTkSuQmCC\n",
       "datasetInfos": [],
       "metadata": {},
       "removedWidgets": [],
       "type": "image"
      }
     },
     "output_type": "display_data"
    }
   ],
   "source": [
    "plt.figure(figsize=(10, 5))\n",
    "plt.plot(k_values, wcss, 'bx-')\n",
    "plt.xlabel('Número de Clusters (k)')\n",
    "plt.ylabel('WCSS')\n",
    "plt.title('Método Elbow para Encontrar o Número Ideal de Clusters')\n",
    "plt.show()"
   ]
  },
  {
   "cell_type": "code",
   "execution_count": 0,
   "metadata": {
    "application/vnd.databricks.v1+cell": {
     "cellMetadata": {},
     "inputWidgets": {},
     "nuid": "0cbaead0-3559-45d9-8396-d9883862f3ff",
     "showTitle": false,
     "tableResultSettingsMap": {},
     "title": ""
    }
   },
   "outputs": [],
   "source": [
    "Pelo método Elbow, foi escolhidoseguir com 3 clusters."
   ]
  },
  {
   "cell_type": "code",
   "execution_count": 0,
   "metadata": {
    "application/vnd.databricks.v1+cell": {
     "cellMetadata": {
      "byteLimit": 2048000,
      "rowLimit": 10000
     },
     "inputWidgets": {},
     "nuid": "d9bf7cb5-8723-449f-86f2-050d404b1157",
     "showTitle": false,
     "tableResultSettingsMap": {},
     "title": ""
    }
   },
   "outputs": [],
   "source": [
    "kmeans = KMeans(n_clusters=3, random_state=42)\n",
    "pd_usuarios['cluster'] = kmeans.fit_predict(X_scaled)"
   ]
  },
  {
   "cell_type": "code",
   "execution_count": 0,
   "metadata": {
    "application/vnd.databricks.v1+cell": {
     "cellMetadata": {
      "byteLimit": 2048000,
      "rowLimit": 10000
     },
     "inputWidgets": {},
     "nuid": "ce987b7e-7f2d-454a-b3c1-25335e0a170a",
     "showTitle": false,
     "tableResultSettingsMap": {},
     "title": ""
    }
   },
   "outputs": [
    {
     "output_type": "display_data",
     "data": {
      "image/png": "[encoded data removed]"
     },
     "metadata": {
      "application/vnd.databricks.v1+output": {
       "addedWidgets": {},
       "arguments": {},
       "data": "data:image/png;base64,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\n",
       "datasetInfos": [],
       "metadata": {},
       "removedWidgets": [],
       "type": "image"
      }
     },
     "output_type": "display_data"
    }
   ],
   "source": [
    "pca = PCA(n_components=2)\n",
    "X_pca = pca.fit_transform(X_scaled)\n",
    "\n",
    "# Adicionar as componentes principais ao DataFrame\n",
    "pd_usuarios['pca1'] = X_pca[:, 0]\n",
    "pd_usuarios['pca2'] = X_pca[:, 1]\n",
    "\n",
    "# Plotar os dados clusterizados\n",
    "plt.figure(figsize=(10, 6))\n",
    "scatter = plt.scatter(pd_usuarios['pca1'], pd_usuarios['pca2'], c=pd_usuarios['cluster'], cmap='viridis')\n",
    "plt.title('Visualização dos Clusters com PCA')\n",
    "plt.xlabel('Componente Principal 1')\n",
    "plt.ylabel('Componente Principal 2')\n",
    "plt.legend(*scatter.legend_elements(), title=\"Clusters\")\n",
    "plt.show()"
   ]
  },
  {
   "cell_type": "code",
   "execution_count": 0,
   "metadata": {
    "application/vnd.databricks.v1+cell": {
     "cellMetadata": {
      "byteLimit": 2048000,
      "rowLimit": 10000
     },
     "inputWidgets": {},
     "nuid": "c3882c05-226e-43e2-b0be-12732164e9a3",
     "showTitle": false,
     "tableResultSettingsMap": {},
     "title": ""
    }
   },
   "outputs": [
    {
     "output_type": "stream",
     "name": "stderr",
     "output_type": "stream",
     "text": [
      "<command-489100378997941>:1: FutureWarning: ['customer_id', 'is_target'] did not aggregate successfully. If any error is raised this will raise in a future version of pandas. Drop these columns/ops to avoid this warning.\n  grouped_stats = pd_usuarios.groupby('cluster').agg(['mean', 'median', 'std', 'min', 'max'])\n"
     ]
    },
    {
     "output_type": "display_data",
     "data": {
      "text/html": [
       "<div>\n",
       "<style scoped>\n",
       "    .dataframe tbody tr th:only-of-type {\n",
       "        vertical-align: middle;\n",
       "    }\n",
       "\n",
       "    .dataframe tbody tr th {\n",
       "        vertical-align: top;\n",
       "    }\n",
       "\n",
       "    .dataframe thead tr th {\n",
       "        text-align: left;\n",
       "    }\n",
       "\n",
       "    .dataframe thead tr:last-of-type th {\n",
       "        text-align: right;\n",
       "    }\n",
       "</style>\n",
       "<table border=\"1\" class=\"dataframe\">\n",
       "  <thead>\n",
       "    <tr>\n",
       "      <th></th>\n",
       "      <th colspan=\"5\" halign=\"left\">recencia</th>\n",
       "      <th colspan=\"5\" halign=\"left\">frequencia</th>\n",
       "      <th colspan=\"5\" halign=\"left\">valor</th>\n",
       "    </tr>\n",
       "    <tr>\n",
       "      <th></th>\n",
       "      <th>mean</th>\n",
       "      <th>median</th>\n",
       "      <th>std</th>\n",
       "      <th>min</th>\n",
       "      <th>max</th>\n",
       "      <th>mean</th>\n",
       "      <th>median</th>\n",
       "      <th>std</th>\n",
       "      <th>min</th>\n",
       "      <th>max</th>\n",
       "      <th>mean</th>\n",
       "      <th>median</th>\n",
       "      <th>std</th>\n",
       "      <th>min</th>\n",
       "      <th>max</th>\n",
       "    </tr>\n",
       "    <tr>\n",
       "      <th>cluster</th>\n",
       "      <th></th>\n",
       "      <th></th>\n",
       "      <th></th>\n",
       "      <th></th>\n",
       "      <th></th>\n",
       "      <th></th>\n",
       "      <th></th>\n",
       "      <th></th>\n",
       "      <th></th>\n",
       "      <th></th>\n",
       "      <th></th>\n",
       "      <th></th>\n",
       "      <th></th>\n",
       "      <th></th>\n",
       "      <th></th>\n",
       "    </tr>\n",
       "  </thead>\n",
       "  <tbody>\n",
       "    <tr>\n",
       "      <th>0</th>\n",
       "      <td>5.866839</td>\n",
       "      <td>5.0</td>\n",
       "      <td>3.659177</td>\n",
       "      <td>1</td>\n",
       "      <td>19</td>\n",
       "      <td>2.833561</td>\n",
       "      <td>2.0</td>\n",
       "      <td>2.027847</td>\n",
       "      <td>1</td>\n",
       "      <td>13</td>\n",
       "      <td>127.419360</td>\n",
       "      <td>94.4</td>\n",
       "      <td>104.198219</td>\n",
       "      <td>1.00</td>\n",
       "      <td>858.30</td>\n",
       "    </tr>\n",
       "    <tr>\n",
       "      <th>1</th>\n",
       "      <td>3.008112</td>\n",
       "      <td>2.0</td>\n",
       "      <td>2.463063</td>\n",
       "      <td>1</td>\n",
       "      <td>28</td>\n",
       "      <td>13.499825</td>\n",
       "      <td>12.0</td>\n",
       "      <td>6.793230</td>\n",
       "      <td>1</td>\n",
       "      <td>157</td>\n",
       "      <td>721.031456</td>\n",
       "      <td>597.4</td>\n",
       "      <td>450.078355</td>\n",
       "      <td>69.50</td>\n",
       "      <td>11342.07</td>\n",
       "    </tr>\n",
       "    <tr>\n",
       "      <th>2</th>\n",
       "      <td>21.395071</td>\n",
       "      <td>21.0</td>\n",
       "      <td>4.997391</td>\n",
       "      <td>13</td>\n",
       "      <td>31</td>\n",
       "      <td>1.367006</td>\n",
       "      <td>1.0</td>\n",
       "      <td>0.747333</td>\n",
       "      <td>1</td>\n",
       "      <td>11</td>\n",
       "      <td>63.051877</td>\n",
       "      <td>48.0</td>\n",
       "      <td>51.738475</td>\n",
       "      <td>0.01</td>\n",
       "      <td>995.50</td>\n",
       "    </tr>\n",
       "  </tbody>\n",
       "</table>\n",
       "</div>"
      ]
     },
     "metadata": {
      "application/vnd.databricks.v1+output": {
       "addedWidgets": {},
       "arguments": {},
       "data": "<div>\n<style scoped>\n    .dataframe tbody tr th:only-of-type {\n        vertical-align: middle;\n    }\n\n    .dataframe tbody tr th {\n        vertical-align: top;\n    }\n\n    .dataframe thead tr th {\n        text-align: left;\n    }\n\n    .dataframe thead tr:last-of-type th {\n        text-align: right;\n    }\n</style>\n<table border=\"1\" class=\"dataframe\">\n  <thead>\n    <tr>\n      <th></th>\n      <th colspan=\"5\" halign=\"left\">recencia</th>\n      <th colspan=\"5\" halign=\"left\">frequencia</th>\n      <th colspan=\"5\" halign=\"left\">valor</th>\n    </tr>\n    <tr>\n      <th></th>\n      <th>mean</th>\n      <th>median</th>\n      <th>std</th>\n      <th>min</th>\n      <th>max</th>\n      <th>mean</th>\n      <th>median</th>\n      <th>std</th>\n      <th>min</th>\n      <th>max</th>\n      <th>mean</th>\n      <th>median</th>\n      <th>std</th>\n      <th>min</th>\n      <th>max</th>\n    </tr>\n    <tr>\n      <th>cluster</th>\n      <th></th>\n      <th></th>\n      <th></th>\n      <th></th>\n      <th></th>\n      <th></th>\n      <th></th>\n      <th></th>\n      <th></th>\n      <th></th>\n      <th></th>\n      <th></th>\n      <th></th>\n      <th></th>\n      <th></th>\n    </tr>\n  </thead>\n  <tbody>\n    <tr>\n      <th>0</th>\n      <td>5.866839</td>\n      <td>5.0</td>\n      <td>3.659177</td>\n      <td>1</td>\n      <td>19</td>\n      <td>2.833561</td>\n      <td>2.0</td>\n      <td>2.027847</td>\n      <td>1</td>\n      <td>13</td>\n      <td>127.419360</td>\n      <td>94.4</td>\n      <td>104.198219</td>\n      <td>1.00</td>\n      <td>858.30</td>\n    </tr>\n    <tr>\n      <th>1</th>\n      <td>3.008112</td>\n      <td>2.0</td>\n      <td>2.463063</td>\n      <td>1</td>\n      <td>28</td>\n      <td>13.499825</td>\n      <td>12.0</td>\n      <td>6.793230</td>\n      <td>1</td>\n      <td>157</td>\n      <td>721.031456</td>\n      <td>597.4</td>\n      <td>450.078355</td>\n      <td>69.50</td>\n      <td>11342.07</td>\n    </tr>\n    <tr>\n      <th>2</th>\n      <td>21.395071</td>\n      <td>21.0</td>\n      <td>4.997391</td>\n      <td>13</td>\n      <td>31</td>\n      <td>1.367006</td>\n      <td>1.0</td>\n      <td>0.747333</td>\n      <td>1</td>\n      <td>11</td>\n      <td>63.051877</td>\n      <td>48.0</td>\n      <td>51.738475</td>\n      <td>0.01</td>\n      <td>995.50</td>\n    </tr>\n  </tbody>\n</table>\n</div>",
       "datasetInfos": [],
       "metadata": {},
       "removedWidgets": [],
       "textData": null,
       "type": "htmlSandbox"
      }
     },
     "output_type": "display_data"
    }
   ],
   "source": [
    "grouped_stats = pd_usuarios.groupby('cluster').agg(['mean', 'median', 'std', 'min', 'max'])\n",
    "columns_to_include = ['recencia', 'frequencia', 'valor']\n",
    "grouped_stats = grouped_stats[columns_to_include]\n",
    "\n",
    "grouped_stats.head()"
   ]
  },
  {
   "cell_type": "markdown",
   "metadata": {
    "application/vnd.databricks.v1+cell": {
     "cellMetadata": {},
     "inputWidgets": {},
     "nuid": "20335cf4-95f2-40c1-bf5b-23e7a3655879",
     "showTitle": false,
     "tableResultSettingsMap": {},
     "title": ""
    }
   },
   "source": [
    "É possível classificar os grupos de clientes que compraram dentro do período do teste em:\n",
    "- **Cluster 0: Clientes ocasionais** \\\n",
    "Grupo de clientes esporádicos moderados: compram de vez em quando, apresentam um valor de gasto médio e têm potencial para maior engajamento.\n",
    "- **Cluster 1: Clientes VIP** \\\n",
    "Grupo de clientes engajados, com alta frequência e elevado valor de compra. \n",
    "- **Cluster 2: Clientes pouco ativos** \\\n",
    "Grupo de clientes com baixo engajamento: compraram há muito tempo, com baixa frequência e baixo ticket médio."
   ]
  },
  {
   "cell_type": "code",
   "execution_count": 0,
   "metadata": {
    "application/vnd.databricks.v1+cell": {
     "cellMetadata": {
      "byteLimit": 2048000,
      "rowLimit": 10000
     },
     "inputWidgets": {},
     "nuid": "986f07cd-99a7-473a-9354-65c79a38b03d",
     "showTitle": false,
     "tableResultSettingsMap": {},
     "title": ""
    }
   },
   "outputs": [],
   "source": [
    "df_usuarios_cluster = spark.createDataFrame(pd_usuarios)"
   ]
  },
  {
   "cell_type": "markdown",
   "metadata": {
    "application/vnd.databricks.v1+cell": {
     "cellMetadata": {},
     "inputWidgets": {},
     "nuid": "3a264dbc-7387-40f6-b64d-daa6163d84bf",
     "showTitle": false,
     "tableResultSettingsMap": {},
     "title": ""
    }
   },
   "source": [
    "### Análise com base nas segmentações"
   ]
  },
  {
   "cell_type": "code",
   "execution_count": 0,
   "metadata": {
    "application/vnd.databricks.v1+cell": {
     "cellMetadata": {
      "byteLimit": 2048000,
      "rowLimit": 10000
     },
     "inputWidgets": {},
     "nuid": "bfecdd00-dac0-4218-89f3-6adb811ccff5",
     "showTitle": false,
     "tableResultSettingsMap": {},
     "title": ""
    }
   },
   "outputs": [],
   "source": [
    "df_orders_seg = (df_orders.alias(\"o\")\n",
    "    .join(\n",
    "        df_usuarios_cluster.alias(\"cl\"),\n",
    "        col(\"o.customer_id\") == col(\"cl.customer_id\"),\n",
    "        \"left\"\n",
    "    )\n",
    "    .select(\"o.customer_id\",\"delivery_address_state\",\"merchant_id\",\"order_reference_timestamp\",\"order_id\",\"order_total_amount\",\"o.is_target\",\"items\",\"cluster\")\n",
    ")"
   ]
  },
  {
   "cell_type": "code",
   "execution_count": 0,
   "metadata": {
    "application/vnd.databricks.v1+cell": {
     "cellMetadata": {
      "byteLimit": 2048000,
      "rowLimit": 10000
     },
     "inputWidgets": {},
     "nuid": "a76c4232-477d-4df7-b634-e52e74ffd2ee",
     "showTitle": false,
     "tableResultSettingsMap": {},
     "title": ""
    }
   },
   "outputs": [],
   "source": [
    "df_metricas_seg = (df_orders_seg\n",
    "    .groupBy(\"customer_id\",\"is_target\",\"cluster\")\n",
    "    .agg(\n",
    "        countDistinct(\"order_id\").alias(\"tt_order\"),\n",
    "        sum(\"order_total_amount\").alias(\"tt_gasto_usuario\")\n",
    "    )\n",
    ")"
   ]
  },
  {
   "cell_type": "code",
   "execution_count": 0,
   "metadata": {
    "application/vnd.databricks.v1+cell": {
     "cellMetadata": {
      "byteLimit": 2048000,
      "rowLimit": 10000
     },
     "inputWidgets": {},
     "nuid": "411561b9-b37b-4ba5-a0c9-a6925ca5824f",
     "showTitle": false,
     "tableResultSettingsMap": {},
     "title": ""
    }
   },
   "outputs": [],
   "source": [
    "metricas_seg = (df_metricas_seg.groupBy(\"is_target\",\"cluster\") \n",
    "    .agg( \n",
    "        count(\"customer_id\").alias(\"total_users\"), \n",
    "        (sum(\"tt_order\")).alias(\"tt_orders\"),\n",
    "        (sum(\"tt_gasto_usuario\")).alias(\"receita_total\"),\n",
    "        mean(\"tt_order\").alias(\"freq_pdd_usuario\"),\n",
    "        (sum(\"tt_gasto_usuario\")/sum(\"tt_order\")).alias(\"ticket_medio\")        \n",
    "    ) \n",
    ")"
   ]
  },
  {
   "cell_type": "code",
   "execution_count": 0,
   "metadata": {
    "application/vnd.databricks.v1+cell": {
     "cellMetadata": {
      "byteLimit": 2048000,
      "rowLimit": 10000
     },
     "inputWidgets": {},
     "nuid": "8c7ab743-6cc6-4ed9-b8f8-2845d2870193",
     "showTitle": false,
     "tableResultSettingsMap": {},
     "title": ""
    }
   },
   "outputs": [
    {
     "output_type": "display_data",
     "data": {
      "text/html": [
       "<style scoped>\n",
       "  .table-result-container {\n",
       "    max-height: 300px;\n",
       "    overflow: auto;\n",
       "  }\n",
       "  table, th, td {\n",
       "    border: 1px solid black;\n",
       "    border-collapse: collapse;\n",
       "  }\n",
       "  th, td {\n",
       "    padding: 5px;\n",
       "  }\n",
       "  th {\n",
       "    text-align: left;\n",
       "  }\n",
       "</style><div class='table-result-container'><table class='table-result'><thead style='background-color: white'><tr><th>is_target</th><th>cluster</th><th>total_users</th><th>tt_orders</th><th>receita_total</th><th>freq_pdd_usuario</th><th>ticket_medio</th></tr></thead><tbody><tr><td>control</td><td>0</td><td>197804</td><td>532692</td><td>2.3996528929998856E7</td><td>2.6930294635093324</td><td>45.047661556769874</td></tr><tr><td>control</td><td>1</td><td>21701</td><td>293138</td><td>1.5638141229999986E7</td><td>13.508041104096586</td><td>53.34736960066585</td></tr><tr><td>control</td><td>2</td><td>141009</td><td>184840</td><td>8548710.72000042</td><td>1.31083831528484</td><td>46.249246483447415</td></tr><tr><td>target</td><td>0</td><td>256878</td><td>755677</td><td>3.393876058999839E7</td><td>2.941773916022392</td><td>44.911728939743284</td></tr><tr><td>target</td><td>1</td><td>32538</td><td>439079</td><td>2.3469883899999995E7</td><td>13.494345073452578</td><td>53.45253109349341</td></tr><tr><td>target</td><td>2</td><td>156479</td><td>221828</td><td>1.0208466060000062E7</td><td>1.4176215338799456</td><td>46.01973628216484</td></tr></tbody></table></div>"
      ]
     },
     "metadata": {
      "application/vnd.databricks.v1+output": {
       "addedWidgets": {},
       "aggData": [],
       "aggError": "",
       "aggOverflow": false,
       "aggSchema": [],
       "aggSeriesLimitReached": false,
       "aggType": "",
       "arguments": {},
       "columnCustomDisplayInfos": {},
       "data": [
        [
         "control",
         0,
         197804,
         532692,
         2.3996528929998856E7,
         2.6930294635093324,
         45.047661556769874
        ],
        [
         "control",
         1,
         21701,
         293138,
         1.5638141229999986E7,
         13.508041104096586,
         53.34736960066585
        ],
        [
         "control",
         2,
         141009,
         184840,
         8548710.72000042,
         1.31083831528484,
         46.249246483447415
        ],
        [
         "target",
         0,
         256878,
         755677,
         3.393876058999839E7,
         2.941773916022392,
         44.911728939743284
        ],
        [
         "target",
         1,
         32538,
         439079,
         2.3469883899999995E7,
         13.494345073452578,
         53.45253109349341
        ],
        [
         "target",
         2,
         156479,
         221828,
         1.0208466060000062E7,
         1.4176215338799456,
         46.01973628216484
        ]
       ],
       "datasetInfos": [],
       "dbfsResultPath": null,
       "isJsonSchema": true,
       "metadata": {},
       "overflow": false,
       "plotOptions": {
        "customPlotOptions": {},
        "displayType": "table",
        "pivotAggregation": null,
        "pivotColumns": null,
        "xColumns": null,
        "yColumns": null
       },
       "removedWidgets": [],
       "schema": [
        {
         "metadata": "{}",
         "name": "is_target",
         "type": "\"string\""
        },
        {
         "metadata": "{}",
         "name": "cluster",
         "type": "\"integer\""
        },
        {
         "metadata": "{}",
         "name": "total_users",
         "type": "\"long\""
        },
        {
         "metadata": "{}",
         "name": "tt_orders",
         "type": "\"long\""
        },
        {
         "metadata": "{}",
         "name": "receita_total",
         "type": "\"double\""
        },
        {
         "metadata": "{}",
         "name": "freq_pdd_usuario",
         "type": "\"double\""
        },
        {
         "metadata": "{}",
         "name": "ticket_medio",
         "type": "\"double\""
        }
       ],
       "type": "table"
      }
     },
     "output_type": "display_data"
    }
   ],
   "source": [
    "metricas_seg.orderBy(col(\"is_target\"),col(\"cluster\")).display()"
   ]
  },
  {
   "cell_type": "markdown",
   "metadata": {
    "application/vnd.databricks.v1+cell": {
     "cellMetadata": {},
     "inputWidgets": {},
     "nuid": "ebff5d42-dcfa-4aff-8144-c1389de676bd",
     "showTitle": false,
     "tableResultSettingsMap": {},
     "title": ""
    }
   },
   "source": [
    "A clusterização realizada com os usuários do teste resultou em três grupos distintos, que foram agrupados com base na semelhança de comportamentos. \\\n",
    "No entanto, é importante destacar que, idealmente, a segmentação dos usuários em clusters deveria ser realizada com dados de antes do início do teste A/B. \\\n",
    "Isso garante que os grupos estão estruturados com base em comportamentos semelhantes, permitindo uma melhor distribuição entre target e controle. Assim, mitigamos o risco de vieses introduzidos pelo próprio teste.\n",
    "Realizar a segmentação antecipadamente ajuda a preservar a robustez do experimento, já que os grupos target e controle seriam comparáveis, respeitando as características de cada usuário. "
   ]
  },
  {
   "cell_type": "markdown",
   "metadata": {
    "application/vnd.databricks.v1+cell": {
     "cellMetadata": {},
     "inputWidgets": {},
     "nuid": "936c1410-305c-4da3-969d-848015d267b0",
     "showTitle": false,
     "tableResultSettingsMap": {},
     "title": ""
    }
   },
   "source": [
    "Utilizando como premissa que não há viés nessa segmentação e observando os indicadores de sucesso que foram estabelecidos, foi realizado o teste t."
   ]
  },
  {
   "cell_type": "code",
   "execution_count": 0,
   "metadata": {
    "application/vnd.databricks.v1+cell": {
     "cellMetadata": {
      "byteLimit": 2048000,
      "rowLimit": 10000
     },
     "inputWidgets": {},
     "nuid": "5cf2b274-7986-4c0b-9c94-83350de09da9",
     "showTitle": false,
     "tableResultSettingsMap": {},
     "title": ""
    }
   },
   "outputs": [
    {
     "output_type": "stream",
     "name": "stdout",
     "output_type": "stream",
     "text": [
      "0.0\nRejeita a hipótese nula: diferença significante.\n"
     ]
    }
   ],
   "source": [
    "# Cluster 0: Clientes ocasionais\n",
    "freq_target_0_group = df_metricas_seg.filter((col(\"is_target\") == \"target\") & (col(\"cluster\") == 0)).select(\"tt_order\")\n",
    "freq_control_0_group = df_metricas_seg.filter((col(\"is_target\") == \"control\") & (col(\"cluster\") == 0)).select(\"tt_order\")\n",
    "\n",
    "teste_t(controle = freq_control_0_group, target = freq_target_0_group, coluna = \"tt_order\")"
   ]
  },
  {
   "cell_type": "code",
   "execution_count": 0,
   "metadata": {
    "application/vnd.databricks.v1+cell": {
     "cellMetadata": {
      "byteLimit": 2048000,
      "rowLimit": 10000
     },
     "inputWidgets": {},
     "nuid": "8de682cc-7335-4c64-b603-14ca12aca52f",
     "showTitle": false,
     "tableResultSettingsMap": {},
     "title": ""
    }
   },
   "outputs": [
    {
     "output_type": "stream",
     "name": "stdout",
     "output_type": "stream",
     "text": [
      "0.011058399470623143\nRejeita a hipótese nula: diferença significante.\n"
     ]
    }
   ],
   "source": [
    "# Cluster 0: Clientes ocasionais\n",
    "tkt_target_group = df_orders_seg.filter((col(\"is_target\") == \"target\") & (col(\"cluster\") == 0)).select(\"order_total_amount\")\n",
    "tkt_control_group = df_orders_seg.filter((col(\"is_target\") == \"control\") & (col(\"cluster\") == 0)).select(\"order_total_amount\")\n",
    "\n",
    "teste_t(controle = tkt_control_group, target = tkt_target_group, coluna = \"order_total_amount\")"
   ]
  },
  {
   "cell_type": "code",
   "execution_count": 0,
   "metadata": {
    "application/vnd.databricks.v1+cell": {
     "cellMetadata": {
      "byteLimit": 2048000,
      "rowLimit": 10000
     },
     "inputWidgets": {},
     "nuid": "95a3feff-9976-413f-8435-f01a169a167e",
     "showTitle": false,
     "tableResultSettingsMap": {},
     "title": ""
    }
   },
   "outputs": [
    {
     "output_type": "stream",
     "name": "stdout",
     "output_type": "stream",
     "text": [
      "Não rejeita a hipótese nula: sem diferença significante.\n"
     ]
    }
   ],
   "source": [
    "#Cluster 1: Clientes VIP\n",
    "freq_target_1_group = df_metricas_seg.filter((col(\"is_target\") == \"target\") & (col(\"cluster\") == 1)).select(\"tt_order\")\n",
    "freq_control_1_group = df_metricas_seg.filter((col(\"is_target\") == \"control\") & (col(\"cluster\") == 1)).select(\"tt_order\")\n",
    "\n",
    "teste_t(controle = freq_control_1_group, target = freq_target_1_group, coluna = \"tt_order\")"
   ]
  },
  {
   "cell_type": "code",
   "execution_count": 0,
   "metadata": {
    "application/vnd.databricks.v1+cell": {
     "cellMetadata": {
      "byteLimit": 2048000,
      "rowLimit": 10000
     },
     "inputWidgets": {},
     "nuid": "d92e2c1d-8c3d-475f-99a5-c91215a69392",
     "showTitle": false,
     "tableResultSettingsMap": {},
     "title": ""
    }
   },
   "outputs": [
    {
     "output_type": "stream",
     "name": "stdout",
     "output_type": "stream",
     "text": [
      "Não rejeita a hipótese nula: sem diferença significante.\n"
     ]
    }
   ],
   "source": [
    "#Cluster 1: Clientes VIP\n",
    "tkt_target_1_group = df_orders_seg.filter((col(\"is_target\") == \"target\") & (col(\"cluster\") == 1)).select(\"order_total_amount\")\n",
    "tkt_control_1_group = df_orders_seg.filter((col(\"is_target\") == \"control\") & (col(\"cluster\") == 1)).select(\"order_total_amount\")\n",
    "\n",
    "teste_t(controle = tkt_control_1_group, target = tkt_target_1_group, coluna = \"order_total_amount\")"
   ]
  },
  {
   "cell_type": "code",
   "execution_count": 0,
   "metadata": {
    "application/vnd.databricks.v1+cell": {
     "cellMetadata": {
      "byteLimit": 2048000,
      "rowLimit": 10000
     },
     "inputWidgets": {},
     "nuid": "00b51da6-0821-4755-a31f-9a748c6432a9",
     "showTitle": false,
     "tableResultSettingsMap": {},
     "title": ""
    }
   },
   "outputs": [
    {
     "output_type": "stream",
     "name": "stdout",
     "output_type": "stream",
     "text": [
      "0.0\nRejeita a hipótese nula: diferença significante.\n"
     ]
    }
   ],
   "source": [
    "#Cluster 2: Clientes pouco ativos\n",
    "freq_target_2_group = df_metricas_seg.filter((col(\"is_target\") == \"target\") & (col(\"cluster\") == 2)).select(\"tt_order\")\n",
    "freq_control_2_group = df_metricas_seg.filter((col(\"is_target\") == \"control\") & (col(\"cluster\") == 2)).select(\"tt_order\")\n",
    "\n",
    "teste_t(controle = freq_control_2_group, target = freq_target_2_group, coluna = \"tt_order\")"
   ]
  },
  {
   "cell_type": "code",
   "execution_count": 0,
   "metadata": {
    "application/vnd.databricks.v1+cell": {
     "cellMetadata": {
      "byteLimit": 2048000,
      "rowLimit": 10000
     },
     "inputWidgets": {},
     "nuid": "f9bf0d6f-2716-4667-8f27-63406bac70db",
     "showTitle": false,
     "tableResultSettingsMap": {},
     "title": ""
    }
   },
   "outputs": [
    {
     "output_type": "stream",
     "name": "stdout",
     "output_type": "stream",
     "text": [
      "0.02000263286338154\nRejeita a hipótese nula: diferença significante.\n"
     ]
    }
   ],
   "source": [
    "#Cluster 2: Clientes pouco ativos\n",
    "tkt_target_2_group = df_orders_seg.filter((col(\"is_target\") == \"target\") & (col(\"cluster\") == 2)).select(\"order_total_amount\")\n",
    "tkt_control_2_group = df_orders_seg.filter((col(\"is_target\") == \"control\") & (col(\"cluster\") == 2)).select(\"order_total_amount\")\n",
    "\n",
    "teste_t(controle = tkt_control_2_group, target = tkt_target_2_group, coluna = \"order_total_amount\")"
   ]
  },
  {
   "cell_type": "markdown",
   "metadata": {
    "application/vnd.databricks.v1+cell": {
     "cellMetadata": {},
     "inputWidgets": {},
     "nuid": "4f2f87f7-fb8c-4e33-bbec-6d932d120d32",
     "showTitle": false,
     "tableResultSettingsMap": {},
     "title": ""
    }
   },
   "source": [
    "A partir desses dados, é possível observar que a presença de cupons para clientes VIP (cluster 1) não influencia no comportamento do grupo. Tanto a frequência de pedidos quanto o ticket médio são iguais. \\\n",
    "Já para clientes ocasionais e os pouco ativos (cluster 0 e 2), a presença do cupom impactou tanto a frequência de pedidos quanto o ticket médio. Usuários target desses grupos apresentaram aumento na frequência de pedidos, no entanto o ticket médio reduziu.  \n",
    "Para os 3 grupos o ROI permaneceu negativo.\n",
    "([Material com cálculos](https://docs.google.com/spreadsheets/d/1amdnvCE4CmwSudfLNPjKMudqqbi7yvjdZat6gsmD4jc/edit?usp=sharing))"
   ]
  },
  {
   "cell_type": "markdown",
   "metadata": {
    "application/vnd.databricks.v1+cell": {
     "cellMetadata": {},
     "inputWidgets": {},
     "nuid": "8efc1260-c51e-4515-8558-ca25caae397c",
     "showTitle": false,
     "tableResultSettingsMap": {},
     "title": ""
    }
   },
   "source": [
    "### Próximos passos\n",
    "\n",
    "**- Implementar uma segmentação utilizando dados históricos** \\\n",
    "Redefinir os segmentos analisados com base em dados que preexistem à campanha, como frequência de pedidos, ticket médio, categorias favoritas, comportamento de consumo anterior ou engajamento histórico.\n",
    "\n",
    "**- Realizar Testes AB Focados em Segmentos com Maior Potencial** \\\n",
    "Depois de identificar clusters mais promissores pelos filtros históricos, realizar novos experimentos AB com esses segmentos.\n",
    "\n",
    "**- Realizar Testes para entender a melhor configuração de cupom** \\\n",
    "Após identificar quais são os segmentos com maior potencial, entender valores de cupons para identificar o ponto ideal em que o usuário fica satisfeito e ocorre incremento de pedidos, enquanto o impacto em métricas-chave do negócio são minimizados ou até otimizado. "
   ]
  }
 ],
 "metadata": {
  "application/vnd.databricks.v1+notebook": {
   "computePreferences": null,
   "dashboards": [],
   "environmentMetadata": {
    "base_environment": "",
    "environment_version": "1"
   },
   "inputWidgetPreferences": null,
   "language": "python",
   "notebookMetadata": {
    "pythonIndentUnit": 4
   },
   "notebookName": "Segmentação - Teste AB",
   "widgets": {}
  }
 },
 "nbformat": 4,
 "nbformat_minor": 0
}