{
 "cells": [
  {
   "cell_type": "markdown",
   "metadata": {
    "application/vnd.databricks.v1+cell": {
     "cellMetadata": {},
     "inputWidgets": {},
     "nuid": "d3bea91e-05fe-4cf2-9c29-28425142e718",
     "showTitle": false,
     "tableResultSettingsMap": {},
     "title": ""
    }
   },
   "source": [
    "### Imports"
   ]
  },
  {
   "cell_type": "code",
   "execution_count": 0,
   "metadata": {
    "application/vnd.databricks.v1+cell": {
     "cellMetadata": {
      "byteLimit": 2048000,
      "rowLimit": 10000
     },
     "inputWidgets": {},
     "nuid": "e693cf2f-76b4-4b27-92fe-b102adb7da6f",
     "showTitle": false,
     "tableResultSettingsMap": {},
     "title": ""
    }
   },
   "outputs": [],
   "source": [
    "import requests\n",
    "import os\n",
    "from pyspark.sql import SparkSession, Window\n",
    "from pyspark.sql.functions import *\n",
    "from pyspark.sql.types import DoubleType, ArrayType, StructType, StructField, IntegerType, StringType\n",
    "from scipy.stats import ttest_ind, chi2_contingency\n",
    "import numpy as np\n",
    "import matplotlib.pyplot as plt\n",
    "from sklearn.preprocessing import StandardScaler\n",
    "from sklearn.cluster import KMeans\n",
    "from sklearn.decomposition import PCA\n",
    "from scipy.stats import skew, kurtosis\n",
    "import seaborn as sns"
   ]
  },
  {
   "cell_type": "markdown",
   "metadata": {
    "application/vnd.databricks.v1+cell": {
     "cellMetadata": {},
     "inputWidgets": {},
     "nuid": "0289327e-c6b3-4b39-ad04-d5b15f6bce39",
     "showTitle": false,
     "tableResultSettingsMap": {},
     "title": ""
    }
   },
   "source": [
    "### Funções"
   ]
  },
  {
   "cell_type": "code",
   "execution_count": 0,
   "metadata": {
    "application/vnd.databricks.v1+cell": {
     "cellMetadata": {
      "byteLimit": 2048000,
      "rowLimit": 10000
     },
     "inputWidgets": {},
     "nuid": "eaa94671-205e-4915-92f1-710b978ee20f",
     "showTitle": false,
     "tableResultSettingsMap": {},
     "title": ""
    }
   },
   "outputs": [],
   "source": [
    "def metricas_iqr(df, coluna):\n",
    "    \"\"\"\n",
    "    Calcula as métricas baseadas no intervalo interquartil (IQR) para identificar outliers em uma coluna de um DataFrame Spark.\n",
    "\n",
    "    Essa função calcula os quartis (Q1, mediana, Q3) para a coluna especificada no DataFrame,\n",
    "    define os limites inferior e superior para identificação de outliers com base no IQR, filtra os valores que são\n",
    "    considerados outliers e exibe as métricas calculadas, como os quartis, o IQR e o número de outliers encontrados.\n",
    "\n",
    "    Parâmetros:\n",
    "        df (DataFrame): DataFrame Spark contendo a coluna a ser analisada.\n",
    "        coluna (str): O nome da coluna numérica no DataFrame para a qual as métricas IQR serão calculadas.\n",
    "\n",
    "    Retorna:\n",
    "        DataFrame: Um DataFrame Spark contendo apenas os registros que são considerados outliers.\n",
    "\n",
    "    Exibe:\n",
    "        - Valor de Q1 (1º quartil), mediana e Q3 (3º quartil).\n",
    "        - Valor do IQR (intervalo interquartil).\n",
    "        - Limites inferior e superior calculados para definir os outliers.\n",
    "        - Número total de valores considerados outliers.\n",
    "    \"\"\"\n",
    "    q1, median, q3 = df.approxQuantile(coluna, [0.25, 0.5, 0.75], 0.01)\n",
    "    iqr = q3 - q1 \n",
    "\n",
    "    lower_bound = q1 - 1.5 * iqr\n",
    "    upper_bound = q3 + 1.5 * iqr\n",
    "\n",
    "    df_outliers = df.filter((col(coluna) < lower_bound) | (col(coluna) > upper_bound))\n",
    "\n",
    "    print(\n",
    "        f\"Q1: {q1}\\n\"\n",
    "        f\"Median: {median}\\n\"\n",
    "        f\"Q3: {q3}\\n\"\n",
    "        f\"IQR: {iqr}\\n\"\n",
    "        f\"Limites: inferior={lower_bound:.2f}, superior={upper_bound:.2f}\\n\"\n",
    "        f\"Número de outliers: {df_outliers.count()}\"\n",
    "    )\n",
    "    \n",
    "    return df_outliers\n",
    "\n",
    "def teste_t(controle,target,coluna):\n",
    "    \"\"\"\n",
    "    Realiza um teste T de Student para avaliar se há diferença significativa entre duas amostras em uma coluna específica.\n",
    "\n",
    "    A função executa um teste T de Student (teste de hipótese) para comparar as médias de duas amostras (controle e target) \n",
    "    com base em uma coluna fornecida. O teste visa determinar se as diferenças entre os grupos são estatisticamente \n",
    "    significativas, assumindo variâncias desiguais (Welch's t-test).\n",
    "\n",
    "    Parâmetros:\n",
    "        controle (DataFrame): DataFrame Spark representando o grupo de controle.\n",
    "        target (DataFrame): DataFrame Spark representando o grupo target.\n",
    "        coluna (str): O nome da coluna que será comparada entre os grupos.\n",
    "    \"\"\"\n",
    "    target_list = [row[coluna] for row in target.collect()]\n",
    "    control_list = [row[coluna] for row in controle.collect()]\n",
    "    \n",
    "    stat, p_value = ttest_ind(control_list , target_list, equal_var=False)\n",
    "    \n",
    "    alpha = 0.05\n",
    "    if p_value < alpha:\n",
    "        print(p_value)\n",
    "        print(\"Rejeita a hipótese nula: diferença significante.\")\n",
    "    else:\n",
    "        print(\"Não rejeita a hipótese nula: sem diferença significante.\")"
   ]
  },
  {
   "cell_type": "markdown",
   "metadata": {
    "application/vnd.databricks.v1+cell": {
     "cellMetadata": {},
     "inputWidgets": {},
     "nuid": "2f63e7c2-b6d4-47c5-8f02-f33adc8a927a",
     "showTitle": false,
     "tableResultSettingsMap": {},
     "title": ""
    }
   },
   "source": [
    "### Reads"
   ]
  },
  {
   "cell_type": "code",
   "execution_count": 0,
   "metadata": {
    "application/vnd.databricks.v1+cell": {
     "cellMetadata": {
      "byteLimit": 2048000,
      "rowLimit": 10000
     },
     "inputWidgets": {},
     "nuid": "a9826e21-c6de-4504-9744-90183de5c372",
     "showTitle": false,
     "tableResultSettingsMap": {},
     "title": ""
    }
   },
   "outputs": [],
   "source": [
    "df_orders = spark.read.format(\"delta\").load(\"/FileStore/iFood/dataset/orders_tratado/\")\n",
    "ab_test = spark.read.format(\"delta\").load(\"/FileStore/iFood/dataset/ab_tratado\")\n",
    "df_consumer = spark.read.format(\"delta\").load(\"/FileStore/iFood/dataset/consumer_tratado/\")\n",
    "restaurant = spark.read.format(\"delta\").load(\"/FileStore/iFood/dataset/restaurant_tratado\")"
   ]
  },
  {
   "cell_type": "markdown",
   "metadata": {
    "application/vnd.databricks.v1+cell": {
     "cellMetadata": {},
     "inputWidgets": {},
     "nuid": "45647b25-feec-403e-acdf-3207b1f20d0c",
     "showTitle": false,
     "tableResultSettingsMap": {},
     "title": ""
    }
   },
   "source": [
    "### Resultados\n",
    "\n",
    "Para mensurar o sucesso da campanha foram definidos os seguintes indicadores:\n",
    "- Frequência de pedidos\n",
    "- Ticket Médio\n",
    "\n",
    "Para campanhas de cupom é interessante observar a taxa de conversão \n",
    "(usuários que utilizaram cupom / usuários que o cupom foi disponibilizado). \\\n",
    "No entanto, os dados disponibilizados de usuários alocados no teste consistem nos mesmos usuários que fizeram os pedidos. "
   ]
  },
  {
   "cell_type": "code",
   "execution_count": 0,
   "metadata": {
    "application/vnd.databricks.v1+cell": {
     "cellMetadata": {
      "byteLimit": 2048000,
      "rowLimit": 10000
     },
     "inputWidgets": {},
     "nuid": "9816312e-cfde-4925-a956-80b388c48662",
     "showTitle": false,
     "tableResultSettingsMap": {},
     "title": ""
    }
   },
   "outputs": [],
   "source": [
    "df_metricas = (df_orders\n",
    "    .groupBy(\"customer_id\",\"is_target\")\n",
    "    .agg(\n",
    "        countDistinct(\"order_id\").alias(\"tt_order\"),\n",
    "        sum(\"order_total_amount\").alias(\"tt_gasto_usuario\")\n",
    "    )\n",
    ")"
   ]
  },
  {
   "cell_type": "code",
   "execution_count": 0,
   "metadata": {
    "application/vnd.databricks.v1+cell": {
     "cellMetadata": {
      "byteLimit": 2048000,
      "rowLimit": 10000
     },
     "inputWidgets": {},
     "nuid": "6953e5a6-fc94-4053-b5e5-0851c104dc72",
     "showTitle": false,
     "tableResultSettingsMap": {},
     "title": ""
    }
   },
   "outputs": [],
   "source": [
    "metricas = (df_metricas.groupBy(\"is_target\") \n",
    "    .agg(\n",
    "        count(\"customer_id\").alias(\"total_usuarios\"), \n",
    "        (sum(\"tt_order\")).alias(\"tt_orders\"),\n",
    "        (sum(\"tt_gasto_usuario\")).alias(\"receita_total\"),\n",
    "        mean(\"tt_order\").alias(\"freq_pdd_usuario\"),\n",
    "        (sum(\"tt_gasto_usuario\")/sum(\"tt_order\")).alias(\"ticket_medio\")\n",
    "    ) \n",
    ")"
   ]
  },
  {
   "cell_type": "code",
   "execution_count": 0,
   "metadata": {
    "application/vnd.databricks.v1+cell": {
     "cellMetadata": {
      "byteLimit": 2048000,
      "rowLimit": 10000
     },
     "inputWidgets": {},
     "nuid": "4a9342fd-17bf-4109-8d0f-e993bdf6b87e",
     "showTitle": false,
     "tableResultSettingsMap": {},
     "title": ""
    }
   },
   "outputs": [
    {
     "output_type": "display_data",
     "data": {
      "text/html": [
       "<style scoped>\n",
       "  .table-result-container {\n",
       "    max-height: 300px;\n",
       "    overflow: auto;\n",
       "  }\n",
       "  table, th, td {\n",
       "    border: 1px solid black;\n",
       "    border-collapse: collapse;\n",
       "  }\n",
       "  th, td {\n",
       "    padding: 5px;\n",
       "  }\n",
       "  th {\n",
       "    text-align: left;\n",
       "  }\n",
       "</style><div class='table-result-container'><table class='table-result'><thead style='background-color: white'><tr><th>is_target</th><th>total_usuarios</th><th>tt_orders</th><th>receita_total</th><th>freq_pdd_usuario</th><th>ticket_medio</th></tr></thead><tbody><tr><td>control</td><td>360514</td><td>1010670</td><td>4.81833808800085E7</td><td>2.8034140144349458</td><td>47.67469191725142</td></tr><tr><td>target</td><td>445895</td><td>1416584</td><td>6.761711055001299E7</td><td>3.1769452449567726</td><td>47.73251042649994</td></tr></tbody></table></div>"
      ]
     },
     "metadata": {
      "application/vnd.databricks.v1+output": {
       "addedWidgets": {},
       "aggData": [],
       "aggError": "",
       "aggOverflow": false,
       "aggSchema": [],
       "aggSeriesLimitReached": false,
       "aggType": "",
       "arguments": {},
       "columnCustomDisplayInfos": {},
       "data": [
        [
         "control",
         360514,
         1010670,
         4.81833808800085E7,
         2.8034140144349458,
         47.67469191725142
        ],
        [
         "target",
         445895,
         1416584,
         6.761711055001299E7,
         3.1769452449567726,
         47.73251042649994
        ]
       ],
       "datasetInfos": [],
       "dbfsResultPath": null,
       "isJsonSchema": true,
       "metadata": {},
       "overflow": false,
       "plotOptions": {
        "customPlotOptions": {},
        "displayType": "table",
        "pivotAggregation": null,
        "pivotColumns": null,
        "xColumns": null,
        "yColumns": null
       },
       "removedWidgets": [],
       "schema": [
        {
         "metadata": "{}",
         "name": "is_target",
         "type": "\"string\""
        },
        {
         "metadata": "{}",
         "name": "total_usuarios",
         "type": "\"long\""
        },
        {
         "metadata": "{}",
         "name": "tt_orders",
         "type": "\"long\""
        },
        {
         "metadata": "{}",
         "name": "receita_total",
         "type": "\"double\""
        },
        {
         "metadata": "{}",
         "name": "freq_pdd_usuario",
         "type": "\"double\""
        },
        {
         "metadata": "{}",
         "name": "ticket_medio",
         "type": "\"double\""
        }
       ],
       "type": "table"
      }
     },
     "output_type": "display_data"
    }
   ],
   "source": [
    "metricas.display()"
   ]
  },
  {
   "cell_type": "markdown",
   "metadata": {
    "application/vnd.databricks.v1+cell": {
     "cellMetadata": {},
     "inputWidgets": {},
     "nuid": "cad75462-09c5-4206-9feb-25b0d24de1e5",
     "showTitle": false,
     "tableResultSettingsMap": {},
     "title": ""
    }
   },
   "source": [
    "Ao analisar as métricas de sucesso estabelecidas, observamos uma diferença mais expressiva entre os grupos target e controle no que diz respeito à frequência de pedidos. Por outro lado, a diferença no ticket médio entre esses grupos é relativamente pequena.\n",
    "Para validar a significância dessas observações, o próximo passo será realizar o teste t. Esse teste estatístico nos permitirá avaliar se as diferenças identificadas entre os grupos são estatisticamente significativas ou se podem ter ocorrido ao acaso, garantindo maior confiabilidade na interpretação dos resultados."
   ]
  },
  {
   "cell_type": "markdown",
   "metadata": {
    "application/vnd.databricks.v1+cell": {
     "cellMetadata": {},
     "inputWidgets": {},
     "nuid": "71d276e9-61f5-4c3b-a3d3-0a380c6afca3",
     "showTitle": false,
     "tableResultSettingsMap": {},
     "title": ""
    }
   },
   "source": [
    "#### Teste t"
   ]
  },
  {
   "cell_type": "markdown",
   "metadata": {
    "application/vnd.databricks.v1+cell": {
     "cellMetadata": {},
     "inputWidgets": {},
     "nuid": "c4fbe57d-5a5f-42c1-9890-be53f9220673",
     "showTitle": false,
     "tableResultSettingsMap": {},
     "title": ""
    }
   },
   "source": [
    "- Hipótese Nula (H₀): A frequência de pedidos dos dois grupos é a mesma.\n",
    "- Hipótese Alternativa (H₁): A frequência de pedidos dos dois grupos é diferente."
   ]
  },
  {
   "cell_type": "code",
   "execution_count": 0,
   "metadata": {
    "application/vnd.databricks.v1+cell": {
     "cellMetadata": {
      "byteLimit": 2048000,
      "rowLimit": 10000
     },
     "inputWidgets": {},
     "nuid": "5750ad3f-d1fe-43d4-abb3-24a71a5498bf",
     "showTitle": false,
     "tableResultSettingsMap": {},
     "title": ""
    }
   },
   "outputs": [],
   "source": [
    "freq_target_group = df_metricas.filter(col(\"is_target\") == \"target\").select(\"tt_order\")\n",
    "freq_control_group = df_metricas.filter(col(\"is_target\") == \"control\").select(\"tt_order\")"
   ]
  },
  {
   "cell_type": "code",
   "execution_count": 0,
   "metadata": {
    "application/vnd.databricks.v1+cell": {
     "cellMetadata": {
      "byteLimit": 2048000,
      "rowLimit": 10000
     },
     "inputWidgets": {},
     "nuid": "c1c2a5b1-8b0c-411a-b3e6-bafd0f409f5a",
     "showTitle": false,
     "tableResultSettingsMap": {},
     "title": ""
    }
   },
   "outputs": [
    {
     "output_type": "stream",
     "name": "stdout",
     "output_type": "stream",
     "text": [
      "0.0\nRejeita a hipótese nula: diferença significante.\n"
     ]
    }
   ],
   "source": [
    "teste_t(controle = freq_control_group, target = freq_target_group, coluna = \"tt_order\")"
   ]
  },
  {
   "cell_type": "markdown",
   "metadata": {
    "application/vnd.databricks.v1+cell": {
     "cellMetadata": {},
     "inputWidgets": {},
     "nuid": "a003dff5-3fb8-4bdf-8610-1b076b30eb82",
     "showTitle": false,
     "tableResultSettingsMap": {},
     "title": ""
    }
   },
   "source": [
    "- Hipótese Nula (H₀): O ticket médio dos dois grupos é o mesmo.\n",
    "- Hipótese Alternativa (H₁): O ticket médio dos dois grupos é diferente."
   ]
  },
  {
   "cell_type": "code",
   "execution_count": 0,
   "metadata": {
    "application/vnd.databricks.v1+cell": {
     "cellMetadata": {
      "byteLimit": 2048000,
      "rowLimit": 10000
     },
     "inputWidgets": {},
     "nuid": "9e694d98-dff1-4b60-b10c-ee901ed80830",
     "showTitle": false,
     "tableResultSettingsMap": {},
     "title": ""
    }
   },
   "outputs": [],
   "source": [
    "tkt_target_group = df_orders.filter(col(\"is_target\") == \"target\").select(\"order_total_amount\")\n",
    "tkt_control_group = df_orders.filter(col(\"is_target\") == \"control\").select(\"order_total_amount\")"
   ]
  },
  {
   "cell_type": "code",
   "execution_count": 0,
   "metadata": {
    "application/vnd.databricks.v1+cell": {
     "cellMetadata": {
      "byteLimit": 2048000,
      "rowLimit": 10000
     },
     "inputWidgets": {},
     "nuid": "abe6192b-01e2-461b-b948-34b93e01dd0c",
     "showTitle": false,
     "tableResultSettingsMap": {},
     "title": ""
    }
   },
   "outputs": [
    {
     "output_type": "stream",
     "name": "stdout",
     "output_type": "stream",
     "text": [
      "Não rejeita a hipótese nula: sem diferença significante.\n"
     ]
    }
   ],
   "source": [
    "teste_t(controle = tkt_control_group, target = tkt_target_group, coluna = \"order_total_amount\")"
   ]
  },
  {
   "cell_type": "markdown",
   "metadata": {
    "application/vnd.databricks.v1+cell": {
     "cellMetadata": {},
     "inputWidgets": {},
     "nuid": "3c6a1d00-846b-4e22-868a-85b37ac24751",
     "showTitle": false,
     "tableResultSettingsMap": {},
     "title": ""
    }
   },
   "source": [
    "Os resultados evidenciam que a estratégia de oferecer cupons foi eficaz para incentivar os clientes a realizar mais pedidos (maior frequência de compras). Por outro lado, o cupom não teve um impacto substancial no ticket médio. A ação foi mais eficaz para motivar o volume de transações do que para aumentar o valor das compras individuais."
   ]
  },
  {
   "cell_type": "markdown",
   "metadata": {
    "application/vnd.databricks.v1+cell": {
     "cellMetadata": {},
     "inputWidgets": {},
     "nuid": "5d50011d-9992-40ae-a0ad-e21793982fa8",
     "showTitle": false,
     "tableResultSettingsMap": {},
     "title": ""
    }
   },
   "source": [
    "### Viabilidade financeira"
   ]
  },
  {
   "cell_type": "markdown",
   "metadata": {
    "application/vnd.databricks.v1+cell": {
     "cellMetadata": {},
     "inputWidgets": {},
     "nuid": "4e27d9d9-5249-41e3-b054-642711d012ce",
     "showTitle": false,
     "tableResultSettingsMap": {},
     "title": ""
    }
   },
   "source": [
    "Para analisar a viabilidade financeira do teste realizado, foi calculado o ROI da campanha. \\\n",
    "Foram estabelecidas as seguintes premissas: \n",
    "- Cupom Especial: R$20\n",
    "- Taxa iFood: 20%\n",
    "\n",
    "**ROI:** \\\n",
    "Para o cálculo da receita incremental no ROI, é necessário considerar a diferença no tamanho da base do target e do controle. Desse modo, a receita incremental é calculada a partir de: \\\n",
    "((Receita por usuário target) - (Receita por usuário controle)) * número de usuários \n",
    "target \\\n",
    "O resultado obtido de ROI para essa campanha foi de -0,3. Ou seja: os ganhos gerados pela campanha _não foram suficientes_ para cobrir os custos envolvidos.\n",
    "\\\n",
    "\\\n",
    "Segue abaixo o gráfico Cupom vs. ROI.\n",
    "\n"
   ]
  },
  {
   "cell_type": "code",
   "execution_count": 0,
   "metadata": {
    "application/vnd.databricks.v1+cell": {
     "cellMetadata": {
      "byteLimit": 2048000,
      "rowLimit": 10000
     },
     "inputWidgets": {},
     "nuid": "0e86f3eb-9540-4857-8bfd-40af5d41bd00",
     "showTitle": false,
     "tableResultSettingsMap": {},
     "title": ""
    }
   },
   "outputs": [],
   "source": [
    "df_metricas_filtred = (\n",
    "    metricas\n",
    "    .select(\n",
    "    'total_usuarios',\n",
    "    'receita_total',\n",
    "    lit(0.2).alias('taxa_ifood')\n",
    "    )\n",
    ")\n",
    "\n",
    "metricas_control = df_metricas_filtred.filter(col(\"is_target\") == \"control\").drop(\"is_target\")\n",
    "metricas_target = df_metricas_filtred.filter(col(\"is_target\") == \"target\").drop(\"is_target\")\n",
    "\n",
    "metricas_control = metricas_control.select([col(c).alias(f\"{c}_control\") for c in metricas_control.columns])\n",
    "metricas_target = metricas_target.select([col(c).alias(f\"{c}_target\") for c in metricas_target.columns])\n",
    "\n",
    "metricas_pivotado = metricas_control.crossJoin(metricas_target)"
   ]
  },
  {
   "cell_type": "code",
   "execution_count": 0,
   "metadata": {
    "application/vnd.databricks.v1+cell": {
     "cellMetadata": {
      "byteLimit": 2048000,
      "rowLimit": 10000
     },
     "inputWidgets": {},
     "nuid": "77dcd813-f2e5-4e53-b782-947449aaa38d",
     "showTitle": false,
     "tableResultSettingsMap": {},
     "title": ""
    }
   },
   "outputs": [],
   "source": [
    "schema_cupons = StructType([StructField(\"cupom\", IntegerType(), True)])\n",
    "\n",
    "data_cupons = [(valor,) for valor in [10, 15, 20, 25, 30, 35]]\n",
    "\n",
    "df_cupons = spark.createDataFrame(data_cupons, schema=schema_cupons)"
   ]
  },
  {
   "cell_type": "code",
   "execution_count": 0,
   "metadata": {
    "application/vnd.databricks.v1+cell": {
     "cellMetadata": {
      "byteLimit": 2048000,
      "rowLimit": 10000
     },
     "inputWidgets": {},
     "nuid": "cc576f6a-7213-4f7a-aa50-eef5d8875c3b",
     "showTitle": false,
     "tableResultSettingsMap": {},
     "title": ""
    }
   },
   "outputs": [],
   "source": [
    "df_resultado = metricas_pivotado.crossJoin(df_cupons)"
   ]
  },
  {
   "cell_type": "code",
   "execution_count": 0,
   "metadata": {
    "application/vnd.databricks.v1+cell": {
     "cellMetadata": {
      "byteLimit": 2048000,
      "rowLimit": 10000
     },
     "inputWidgets": {},
     "nuid": "34bfe6fa-0208-4ee5-a4ed-d3a0fee60380",
     "showTitle": false,
     "tableResultSettingsMap": {},
     "title": ""
    }
   },
   "outputs": [],
   "source": [
    "roi = (df_resultado\n",
    "    .drop('taxa_ifood_target')\n",
    "    .withColumnRenamed('taxa_ifood_control', 'taxa_ifood')\n",
    "    .withColumn('receita_user_target', (1 - col('taxa_ifood')) * col('receita_total_target') / col('total_usuarios_target'))\n",
    "    .withColumn('receita_user_control', (1 - col('taxa_ifood')) * col('receita_total_control') / col('total_usuarios_control'))\n",
    "    .withColumn('receita_incremental', (col('receita_user_target')-col('receita_user_control'))*col('total_usuarios_target'))\n",
    "    .withColumn('custo', col('total_usuarios_target')*col('cupom'))\n",
    "    .withColumn('ROI', (col('receita_incremental')-col('custo'))/col('custo'))\n",
    "    .select('cupom','ROI')\n",
    ")"
   ]
  },
  {
   "cell_type": "code",
   "execution_count": 0,
   "metadata": {
    "application/vnd.databricks.v1+cell": {
     "cellMetadata": {
      "byteLimit": 2048000,
      "rowLimit": 10000
     },
     "inputWidgets": {},
     "nuid": "f36d9a3e-7f7e-4ecf-9259-9b6fb793d21d",
     "showTitle": false,
     "tableResultSettingsMap": {},
     "title": ""
    }
   },
   "outputs": [
    {
     "output_type": "display_data",
     "data": {
      "image/png": "[encoded data removed]"
     },
     "metadata": {
      "application/vnd.databricks.v1+output": {
       "addedWidgets": {},
       "arguments": {},
       "data": "data:image/png;base64,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\n",
       "datasetInfos": [],
       "metadata": {},
       "removedWidgets": [],
       "type": "image"
      }
     },
     "output_type": "display_data"
    }
   ],
   "source": [
    "df_roi = roi.toPandas()\n",
    "\n",
    "plt.figure(figsize=(8, 5))\n",
    "plt.plot(df_roi['cupom'], df_roi['ROI'], color='brown', marker='o', linestyle='-', linewidth=2)\n",
    "\n",
    "plt.title(\"ROI versus Cupom\", fontsize=16)\n",
    "plt.xlabel(\"Valor do Cupom\", fontsize=12)\n",
    "plt.ylabel(\"ROI\", fontsize=12)\n",
    "plt.axhline(0, color='black', linewidth=0.8, linestyle='--') \n",
    "plt.grid(axis='y', linestyle='--', alpha=0.7)\n",
    "\n",
    "plt.show()"
   ]
  },
  {
   "cell_type": "markdown",
   "metadata": {
    "application/vnd.databricks.v1+cell": {
     "cellMetadata": {},
     "inputWidgets": {},
     "nuid": "159ad8ac-9dc1-4cba-b304-74356ac666bc",
     "showTitle": false,
     "tableResultSettingsMap": {},
     "title": ""
    }
   },
   "source": [
    "Considerando as condições nas quais o teste ocorreu, o ROI seria positivo apenas para cupons abaixo de R$15."
   ]
  },
  {
   "cell_type": "markdown",
   "metadata": {
    "application/vnd.databricks.v1+cell": {
     "cellMetadata": {},
     "inputWidgets": {},
     "nuid": "7bb5b0a7-82a8-4041-a9fe-a35b5aacfed7",
     "showTitle": false,
     "tableResultSettingsMap": {},
     "title": ""
    }
   },
   "source": [
    "### Oportunidade de melhoria: \n",
    "\n",
    "#### Testar elasticidade\n",
    "\n",
    "- **Objetivo** \\\n",
    "Avaliar a elasticidade dos valores de cupons para identificar o ponto ideal em que, ao reduzir o custo do benefício, o impacto em métricas-chave do negócio seja minimizado ou até otimizado.\n",
    "\n",
    "- **Descrição do Teste** \\\n",
    "Serão criados n grupos (Exemplo: Controle + 3 grupos de teste) onde cada grupo irá receber cupons com valores diferentes.\n",
    "\n",
    "- **Métricas de sucesso** \\\n",
    "Conversão \\\n",
    "Frequência de pedidos \\\n",
    "Custo por pedido \\\n",
    "Ticket médio\n"
   ]
  }
 ],
 "metadata": {
  "application/vnd.databricks.v1+notebook": {
   "computePreferences": null,
   "dashboards": [],
   "environmentMetadata": {
    "base_environment": "",
    "environment_version": "1"
   },
   "inputWidgetPreferences": null,
   "language": "python",
   "notebookMetadata": {
    "pythonIndentUnit": 4
   },
   "notebookName": "Análise do teste AB",
   "widgets": {}
  }
 },
 "nbformat": 4,
 "nbformat_minor": 0
}