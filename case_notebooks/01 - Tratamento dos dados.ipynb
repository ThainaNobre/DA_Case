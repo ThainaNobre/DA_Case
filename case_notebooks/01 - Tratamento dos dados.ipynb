{
 "cells": [
  {
   "cell_type": "markdown",
   "metadata": {
    "application/vnd.databricks.v1+cell": {
     "cellMetadata": {},
     "inputWidgets": {},
     "nuid": "7085a0c9-a7dd-468a-a44a-e10ddadee597",
     "showTitle": false,
     "tableResultSettingsMap": {},
     "title": ""
    }
   },
   "source": [
    "### Imports"
   ]
  },
  {
   "cell_type": "code",
   "execution_count": 0,
   "metadata": {
    "application/vnd.databricks.v1+cell": {
     "cellMetadata": {
      "byteLimit": 2048000,
      "rowLimit": 10000
     },
     "inputWidgets": {},
     "nuid": "2600c6f8-0e23-43cd-94c9-f6408cc27e99",
     "showTitle": false,
     "tableResultSettingsMap": {},
     "title": ""
    }
   },
   "outputs": [],
   "source": [
    "import requests\n",
    "import os\n",
    "import tarfile\n",
    "from pyspark.sql import SparkSession, Window\n",
    "from pyspark.sql.functions import *\n",
    "from pyspark.sql.types import DoubleType, ArrayType, StructType, StructField, IntegerType, StringType\n",
    "from scipy.stats import ttest_ind, chi2_contingency\n",
    "import numpy as np\n",
    "import matplotlib.pyplot as plt\n",
    "from sklearn.preprocessing import StandardScaler\n",
    "from sklearn.cluster import KMeans\n",
    "from sklearn.decomposition import PCA\n",
    "from scipy.stats import skew, kurtosis\n",
    "import seaborn as sns"
   ]
  },
  {
   "cell_type": "markdown",
   "metadata": {
    "application/vnd.databricks.v1+cell": {
     "cellMetadata": {},
     "inputWidgets": {},
     "nuid": "0dc3c6ed-6f40-4e65-8886-8e6b38b5215f",
     "showTitle": false,
     "tableResultSettingsMap": {},
     "title": ""
    }
   },
   "source": [
    "### Funções"
   ]
  },
  {
   "cell_type": "code",
   "execution_count": 0,
   "metadata": {
    "application/vnd.databricks.v1+cell": {
     "cellMetadata": {
      "byteLimit": 2048000,
      "rowLimit": 10000
     },
     "inputWidgets": {},
     "nuid": "53e58855-96ce-487c-8dbd-df50f0e1b3eb",
     "showTitle": false,
     "tableResultSettingsMap": {},
     "title": ""
    }
   },
   "outputs": [],
   "source": [
    "def baixar_arquivos(urls, dbfs_dir=\"/FileStore/tables/\"):\n",
    "    \"\"\"\n",
    "    Faz o download de arquivos de URLs fornecidas e os copia para o Databricks File System (DBFS).\n",
    "\n",
    "    Parâmetros:\n",
    "        urls (list): Lista de URLs dos arquivos a serem baixados.\n",
    "        dbfs_dir (str, opcional): Diretório de destino no DBFS onde os arquivos serão copiados.\n",
    "\n",
    "    \"\"\"\n",
    "    dbutils.fs.mkdirs(dbfs_dir)\n",
    "\n",
    "    for url in urls:\n",
    "        nome_arquivo = url.split(\"/\")[-1]\n",
    "        local_tmp_path = f\"/tmp/{nome_arquivo}\"\n",
    "        dbfs_path = f\"{dbfs_dir}/{nome_arquivo}\"\n",
    "        print(f\"Baixando: {url}\")\n",
    "        response = requests.get(url, stream=True)\n",
    "        if response.status_code == 200:\n",
    "            with open(local_tmp_path, 'wb') as f:\n",
    "                for chunk in response.iter_content(chunk_size=8192):\n",
    "                    f.write(chunk)\n",
    "            print(f\"Salvo em: {local_tmp_path}\")\n",
    "            dbutils.fs.cp(f\"file:{local_tmp_path}\", dbfs_path)\n",
    "            print(f\"Copiado para DBFS: {dbfs_path}\\n\")\n",
    "        else:\n",
    "            print(f\"Erro ao baixar {url} - Status code: {response.status_code}\")\n",
    "\n",
    "\n",
    "def metricas_iqr(df, coluna):\n",
    "    \"\"\"\n",
    "    Calcula as métricas baseadas no intervalo interquartil (IQR) para identificar outliers em uma coluna de um DataFrame Spark.\n",
    "\n",
    "    Essa função calcula os quartis (Q1, mediana, Q3) para a coluna especificada no DataFrame,\n",
    "    define os limites inferior e superior para identificação de outliers com base no IQR, filtra os valores que são\n",
    "    considerados outliers e exibe as métricas calculadas, como os quartis, o IQR e o número de outliers encontrados.\n",
    "\n",
    "    Parâmetros:\n",
    "        df (DataFrame): DataFrame Spark contendo a coluna a ser analisada.\n",
    "        coluna (str): O nome da coluna numérica no DataFrame para a qual as métricas IQR serão calculadas.\n",
    "\n",
    "    Retorna:\n",
    "        DataFrame: Um DataFrame Spark contendo apenas os registros que são considerados outliers.\n",
    "\n",
    "    Exibe:\n",
    "        - Valor de Q1 (1º quartil), mediana e Q3 (3º quartil).\n",
    "        - Valor do IQR (intervalo interquartil).\n",
    "        - Limites inferior e superior calculados para definir os outliers.\n",
    "        - Número total de valores considerados outliers.\n",
    "    \"\"\"\n",
    "    q1, median, q3 = df.approxQuantile(coluna, [0.25, 0.5, 0.75], 0.01)\n",
    "    iqr = q3 - q1 \n",
    "\n",
    "    lower_bound = q1 - 1.5 * iqr\n",
    "    upper_bound = q3 + 1.5 * iqr\n",
    "\n",
    "    df_outliers = df.filter((col(coluna) < lower_bound) | (col(coluna) > upper_bound))\n",
    "\n",
    "    print(\n",
    "        f\"Q1: {q1}\\n\"\n",
    "        f\"Median: {median}\\n\"\n",
    "        f\"Q3: {q3}\\n\"\n",
    "        f\"IQR: {iqr}\\n\"\n",
    "        f\"Limites: inferior={lower_bound:.2f}, superior={upper_bound:.2f}\\n\"\n",
    "        f\"Número de outliers: {df_outliers.count()}\"\n",
    "    )\n",
    "    \n",
    "    return df_outliers\n",
    "\n",
    "\n",
    "def extract_all_files(tar_file_path, extract_to):\n",
    "    \"\"\"\n",
    "    Extrai todos os arquivos de um arquivo .tar.gz armazenado no DBFS para um diretório especificado no DBFS.\n",
    "\n",
    "    Esta função copia o arquivo .tar.gz do Databricks File System (DBFS) para um caminho temporário no sistema \n",
    "    local, realiza a extração de seus conteúdos e, em seguida, copia os arquivos extraídos de volta ao diretório \n",
    "    especificado no DBFS.\n",
    "\n",
    "    Parâmetros:\n",
    "        tar_file_path (str): Caminho completo do arquivo .tar.gz no DBFS.\n",
    "        extract_to (str): Caminho destino no DBFS onde os arquivos extraídos serão armazenados.\n",
    "    \"\"\"\n",
    "    dbutils.fs.cp(tar_file_path, \"file:/tmp/temp_file.tar.gz\")\n",
    "    with tarfile.open(\"/tmp/temp_file.tar.gz\", 'r:gz') as tar:\n",
    "        tar.extractall(\"/tmp/extracted/\")\n",
    "    dbutils.fs.cp(\"file:/tmp/extracted/\", extract_to, recurse=True)\n",
    "    \n",
    "    print(f\"Arquivos extraídos para: {extract_to}\")\n"
   ]
  },
  {
   "cell_type": "markdown",
   "metadata": {
    "application/vnd.databricks.v1+cell": {
     "cellMetadata": {},
     "inputWidgets": {},
     "nuid": "ca987d9d-cdc5-4ed0-a328-9236a94ef287",
     "showTitle": false,
     "tableResultSettingsMap": {},
     "title": ""
    }
   },
   "source": [
    "### Downloads"
   ]
  },
  {
   "cell_type": "code",
   "execution_count": 0,
   "metadata": {
    "application/vnd.databricks.v1+cell": {
     "cellMetadata": {
      "byteLimit": 2048000,
      "rowLimit": 10000
     },
     "inputWidgets": {},
     "nuid": "87f09122-d3d3-423d-ab6f-dedbbf427548",
     "showTitle": false,
     "tableResultSettingsMap": {},
     "title": ""
    }
   },
   "outputs": [
    {
     "output_type": "stream",
     "name": "stdout",
     "output_type": "stream",
     "text": [
      "Baixando: https://data-architect-test-source.s3-sa-east-1.amazonaws.com/order.json.gz\nSalvo em: /tmp/order.json.gz\nCopiado para DBFS: /FileStore/iFood/dataset/order.json.gz\n\nBaixando: https://data-architect-test-source.s3-sa-east-1.amazonaws.com/ab_test_ref.tar.gz\nSalvo em: /tmp/ab_test_ref.tar.gz\nCopiado para DBFS: /FileStore/iFood/dataset/ab_test_ref.tar.gz\n\nBaixando: https://data-architect-test-source.s3-sa-east-1.amazonaws.com/consumer.csv.gz\nSalvo em: /tmp/consumer.csv.gz\nCopiado para DBFS: /FileStore/iFood/dataset/consumer.csv.gz\n\nBaixando: https://data-architect-test-source.s3-sa-east-1.amazonaws.com/restaurant.csv.gz\nSalvo em: /tmp/restaurant.csv.gz\nCopiado para DBFS: /FileStore/iFood/dataset/restaurant.csv.gz\n\n"
     ]
    }
   ],
   "source": [
    "urls = [\n",
    "    \"https://data-architect-test-source.s3-sa-east-1.amazonaws.com/order.json.gz\",\n",
    "    \"https://data-architect-test-source.s3-sa-east-1.amazonaws.com/ab_test_ref.tar.gz\",\n",
    "    \"https://data-architect-test-source.s3-sa-east-1.amazonaws.com/consumer.csv.gz\",\n",
    "    \"https://data-architect-test-source.s3-sa-east-1.amazonaws.com/restaurant.csv.gz\"\n",
    "]\n",
    "\n",
    "baixar_arquivos(urls, \"/FileStore/iFood/dataset\")"
   ]
  },
  {
   "cell_type": "code",
   "execution_count": 0,
   "metadata": {
    "application/vnd.databricks.v1+cell": {
     "cellMetadata": {
      "byteLimit": 2048000,
      "rowLimit": 10000
     },
     "inputWidgets": {},
     "nuid": "fc9704a2-af81-413b-8e67-2d4e91ee387f",
     "showTitle": false,
     "tableResultSettingsMap": {},
     "title": ""
    }
   },
   "outputs": [
    {
     "output_type": "stream",
     "name": "stdout",
     "output_type": "stream",
     "text": [
      "Arquivos extraídos para: /FileStore/iFood/dataset/extracted/\n"
     ]
    }
   ],
   "source": [
    "extract_all_files(\n",
    "    tar_file_path='/FileStore/iFood/dataset/ab_test_ref.tar.gz', \n",
    "    extract_to='/FileStore/iFood/dataset/extracted/'\n",
    ")"
   ]
  },
  {
   "cell_type": "markdown",
   "metadata": {
    "application/vnd.databricks.v1+cell": {
     "cellMetadata": {},
     "inputWidgets": {},
     "nuid": "58f2a306-c9b7-4968-9189-717a74fa96ad",
     "showTitle": false,
     "tableResultSettingsMap": {},
     "title": ""
    }
   },
   "source": [
    "### Reads"
   ]
  },
  {
   "cell_type": "code",
   "execution_count": 0,
   "metadata": {
    "application/vnd.databricks.v1+cell": {
     "cellMetadata": {
      "byteLimit": 2048000,
      "rowLimit": 10000
     },
     "inputWidgets": {},
     "nuid": "f021d3c2-2fbf-43d6-b02e-e8236739c5f3",
     "showTitle": false,
     "tableResultSettingsMap": {},
     "title": ""
    }
   },
   "outputs": [],
   "source": [
    "consumer_raw = spark.read.option(\"compression\", \"gzip\").csv(\"/FileStore/iFood/dataset/consumer.csv.gz\", header=True, inferSchema=True)\n",
    "restaurant = spark.read.option(\"compression\", \"gzip\").csv(\"/FileStore/iFood/dataset/restaurant.csv.gz\", header=True, inferSchema=True)\n",
    "order_raw = spark.read.option(\"compression\", \"gzip\").json(\"/FileStore/iFood/dataset/order.json.gz\")\n",
    "ab_test = spark.read.options(header=True, inferSchema=True).csv('/FileStore/iFood/dataset/extracted/ab_test_ref.csv')"
   ]
  },
  {
   "cell_type": "markdown",
   "metadata": {
    "application/vnd.databricks.v1+cell": {
     "cellMetadata": {},
     "inputWidgets": {},
     "nuid": "71013a8b-f8a6-4476-9bdf-3a5bb9c67140",
     "showTitle": false,
     "tableResultSettingsMap": {},
     "title": ""
    }
   },
   "source": [
    "### Tratamento dos dados"
   ]
  },
  {
   "cell_type": "markdown",
   "metadata": {
    "application/vnd.databricks.v1+cell": {
     "cellMetadata": {},
     "inputWidgets": {},
     "nuid": "78ccb7bb-c8d3-4a63-97af-63edfcc88603",
     "showTitle": false,
     "tableResultSettingsMap": {},
     "title": ""
    }
   },
   "source": [
    "#### Dados do teste AB"
   ]
  },
  {
   "cell_type": "code",
   "execution_count": 0,
   "metadata": {
    "application/vnd.databricks.v1+cell": {
     "cellMetadata": {
      "byteLimit": 2048000,
      "rowLimit": 10000
     },
     "inputWidgets": {},
     "nuid": "e7a91c8c-58a1-4442-af4a-f2ab8e59c201",
     "showTitle": false,
     "tableResultSettingsMap": {},
     "title": ""
    }
   },
   "outputs": [
    {
     "output_type": "display_data",
     "data": {
      "text/html": [
       "<style scoped>\n",
       "  .table-result-container {\n",
       "    max-height: 300px;\n",
       "    overflow: auto;\n",
       "  }\n",
       "  table, th, td {\n",
       "    border: 1px solid black;\n",
       "    border-collapse: collapse;\n",
       "  }\n",
       "  th, td {\n",
       "    padding: 5px;\n",
       "  }\n",
       "  th {\n",
       "    text-align: left;\n",
       "  }\n",
       "</style><div class='table-result-container'><table class='table-result'><thead style='background-color: white'><tr><th>customer_id</th><th>n_rows</th></tr></thead><tbody></tbody></table></div>"
      ]
     },
     "metadata": {
      "application/vnd.databricks.v1+output": {
       "addedWidgets": {},
       "aggData": [],
       "aggError": "",
       "aggOverflow": false,
       "aggSchema": [],
       "aggSeriesLimitReached": false,
       "aggType": "",
       "arguments": {},
       "columnCustomDisplayInfos": {},
       "data": [],
       "datasetInfos": [],
       "dbfsResultPath": null,
       "isJsonSchema": true,
       "metadata": {},
       "overflow": false,
       "plotOptions": {
        "customPlotOptions": {},
        "displayType": "table",
        "pivotAggregation": null,
        "pivotColumns": null,
        "xColumns": null,
        "yColumns": null
       },
       "removedWidgets": [],
       "schema": [
        {
         "metadata": "{}",
         "name": "customer_id",
         "type": "\"string\""
        },
        {
         "metadata": "{}",
         "name": "n_rows",
         "type": "\"long\""
        }
       ],
       "type": "table"
      }
     },
     "output_type": "display_data"
    }
   ],
   "source": [
    "# Verificando se temos usuários presentes no controle e no tratamento simultaneamente\n",
    "ab_test.groupBy(\"customer_id\").agg(count(\"*\").alias(\"n_rows\")).orderBy(col(\"n_rows\").desc()).filter(col(\"n_rows\") > 1).display()"
   ]
  },
  {
   "cell_type": "markdown",
   "metadata": {
    "application/vnd.databricks.v1+cell": {
     "cellMetadata": {},
     "inputWidgets": {},
     "nuid": "b4238de6-f449-4f2a-a516-8fb62ba5a3f2",
     "showTitle": false,
     "tableResultSettingsMap": {},
     "title": ""
    }
   },
   "source": [
    "#### Dados de Pedidos"
   ]
  },
  {
   "cell_type": "markdown",
   "metadata": {
    "application/vnd.databricks.v1+cell": {
     "cellMetadata": {},
     "inputWidgets": {},
     "nuid": "53137325-af40-48f8-b8a3-065406b9547f",
     "showTitle": false,
     "tableResultSettingsMap": {},
     "title": ""
    }
   },
   "source": [
    "##### Checagem dos dados "
   ]
  },
  {
   "cell_type": "code",
   "execution_count": 0,
   "metadata": {
    "application/vnd.databricks.v1+cell": {
     "cellMetadata": {
      "byteLimit": 2048000,
      "rowLimit": 10000
     },
     "inputWidgets": {},
     "nuid": "08f2e115-cf2f-418f-b024-4b1881dfa4c7",
     "showTitle": false,
     "tableResultSettingsMap": {},
     "title": ""
    }
   },
   "outputs": [
    {
     "output_type": "display_data",
     "data": {
      "text/html": [
       "<style scoped>\n",
       "  .table-result-container {\n",
       "    max-height: 300px;\n",
       "    overflow: auto;\n",
       "  }\n",
       "  table, th, td {\n",
       "    border: 1px solid black;\n",
       "    border-collapse: collapse;\n",
       "  }\n",
       "  th, td {\n",
       "    padding: 5px;\n",
       "  }\n",
       "  th {\n",
       "    text-align: left;\n",
       "  }\n",
       "</style><div class='table-result-container'><table class='table-result'><thead style='background-color: white'><tr><th>total_orders</th></tr></thead><tbody><tr><td>5559</td></tr></tbody></table></div>"
      ]
     },
     "metadata": {
      "application/vnd.databricks.v1+output": {
       "addedWidgets": {},
       "aggData": [],
       "aggError": "",
       "aggOverflow": false,
       "aggSchema": [],
       "aggSeriesLimitReached": false,
       "aggType": "",
       "arguments": {},
       "columnCustomDisplayInfos": {},
       "data": [
        [
         5559
        ]
       ],
       "datasetInfos": [],
       "dbfsResultPath": null,
       "isJsonSchema": true,
       "metadata": {},
       "overflow": false,
       "plotOptions": {
        "customPlotOptions": {},
        "displayType": "table",
        "pivotAggregation": null,
        "pivotColumns": null,
        "xColumns": null,
        "yColumns": null
       },
       "removedWidgets": [],
       "schema": [
        {
         "metadata": "{}",
         "name": "total_orders",
         "type": "\"long\""
        }
       ],
       "type": "table"
      }
     },
     "output_type": "display_data"
    }
   ],
   "source": [
    "# Verificando se temos valores nulos de customer_id na tabela de pedidos\n",
    "order_raw.filter(col(\"customer_id\").isNull()).agg(countDistinct(\"order_id\").alias(\"total_orders\")).display()"
   ]
  },
  {
   "cell_type": "code",
   "execution_count": 0,
   "metadata": {
    "application/vnd.databricks.v1+cell": {
     "cellMetadata": {
      "byteLimit": 2048000,
      "rowLimit": 10000
     },
     "inputWidgets": {},
     "nuid": "df07341b-380e-4ab7-9508-58e45a8599ee",
     "showTitle": false,
     "tableResultSettingsMap": {},
     "title": ""
    }
   },
   "outputs": [
    {
     "output_type": "display_data",
     "data": {
      "text/html": [
       "<style scoped>\n",
       "  .table-result-container {\n",
       "    max-height: 300px;\n",
       "    overflow: auto;\n",
       "  }\n",
       "  table, th, td {\n",
       "    border: 1px solid black;\n",
       "    border-collapse: collapse;\n",
       "  }\n",
       "  th, td {\n",
       "    padding: 5px;\n",
       "  }\n",
       "  th {\n",
       "    text-align: left;\n",
       "  }\n",
       "</style><div class='table-result-container'><table class='table-result'><thead style='background-color: white'><tr><th>n_rows</th><th>total_orders</th></tr></thead><tbody><tr><td>2</td><td>1237852</td></tr></tbody></table></div>"
      ]
     },
     "metadata": {
      "application/vnd.databricks.v1+output": {
       "addedWidgets": {},
       "aggData": [],
       "aggError": "",
       "aggOverflow": false,
       "aggSchema": [],
       "aggSeriesLimitReached": false,
       "aggType": "",
       "arguments": {},
       "columnCustomDisplayInfos": {},
       "data": [
        [
         2,
         1237852
        ]
       ],
       "datasetInfos": [],
       "dbfsResultPath": null,
       "isJsonSchema": true,
       "metadata": {},
       "overflow": false,
       "plotOptions": {
        "customPlotOptions": {},
        "displayType": "table",
        "pivotAggregation": null,
        "pivotColumns": null,
        "xColumns": null,
        "yColumns": null
       },
       "removedWidgets": [],
       "schema": [
        {
         "metadata": "{}",
         "name": "n_rows",
         "type": "\"long\""
        },
        {
         "metadata": "{}",
         "name": "total_orders",
         "type": "\"long\""
        }
       ],
       "type": "table"
      }
     },
     "output_type": "display_data"
    }
   ],
   "source": [
    "# Verificando se há orders duplicadas na tabela\n",
    "check_orders_duplicadas = order_raw.groupBy(\"order_id\").agg(count(\"*\").alias(\"n_rows\")).filter(col(\"n_rows\") > 1)\n",
    "check_orders_duplicadas.groupBy(\"n_rows\").agg(countDistinct(\"order_id\").alias(\"total_orders\")).display()"
   ]
  },
  {
   "cell_type": "code",
   "execution_count": 0,
   "metadata": {
    "application/vnd.databricks.v1+cell": {
     "cellMetadata": {
      "byteLimit": 2048000,
      "rowLimit": 10000
     },
     "inputWidgets": {},
     "nuid": "28988435-17f2-4824-b16e-898546f6f281",
     "showTitle": false,
     "tableResultSettingsMap": {},
     "title": ""
    }
   },
   "outputs": [
    {
     "output_type": "display_data",
     "data": {
      "text/html": [
       "<style scoped>\n",
       "  .table-result-container {\n",
       "    max-height: 300px;\n",
       "    overflow: auto;\n",
       "  }\n",
       "  table, th, td {\n",
       "    border: 1px solid black;\n",
       "    border-collapse: collapse;\n",
       "  }\n",
       "  th, td {\n",
       "    padding: 5px;\n",
       "  }\n",
       "  th {\n",
       "    text-align: left;\n",
       "  }\n",
       "</style><div class='table-result-container'><table class='table-result'><thead style='background-color: white'><tr><th>total_orders</th></tr></thead><tbody><tr><td>102</td></tr></tbody></table></div>"
      ]
     },
     "metadata": {
      "application/vnd.databricks.v1+output": {
       "addedWidgets": {},
       "aggData": [],
       "aggError": "",
       "aggOverflow": false,
       "aggSchema": [],
       "aggSeriesLimitReached": false,
       "aggType": "",
       "arguments": {},
       "columnCustomDisplayInfos": {},
       "data": [
        [
         102
        ]
       ],
       "datasetInfos": [],
       "dbfsResultPath": null,
       "isJsonSchema": true,
       "metadata": {},
       "overflow": false,
       "plotOptions": {
        "customPlotOptions": {},
        "displayType": "table",
        "pivotAggregation": null,
        "pivotColumns": null,
        "xColumns": null,
        "yColumns": null
       },
       "removedWidgets": [],
       "schema": [
        {
         "metadata": "{}",
         "name": "total_orders",
         "type": "\"long\""
        }
       ],
       "type": "table"
      }
     },
     "output_type": "display_data"
    }
   ],
   "source": [
    "# Verificando se temos valor total de pedido zerado\n",
    "order_raw.filter(col(\"order_total_amount\") == 0).agg(countDistinct(\"order_id\").alias(\"total_orders\")).display()\n"
   ]
  },
  {
   "cell_type": "markdown",
   "metadata": {
    "application/vnd.databricks.v1+cell": {
     "cellMetadata": {},
     "inputWidgets": {},
     "nuid": "9c009030-dc80-4a39-9b9a-e5871bf22f28",
     "showTitle": false,
     "tableResultSettingsMap": {},
     "title": ""
    }
   },
   "source": [
    "##### Remoção de duplicadas, informações sensíveis e orders com customer_id nulos"
   ]
  },
  {
   "cell_type": "code",
   "execution_count": 0,
   "metadata": {
    "application/vnd.databricks.v1+cell": {
     "cellMetadata": {
      "byteLimit": 2048000,
      "rowLimit": 10000
     },
     "inputWidgets": {},
     "nuid": "cdd33750-00b5-4527-b36d-45c9863091df",
     "showTitle": false,
     "tableResultSettingsMap": {},
     "title": ""
    }
   },
   "outputs": [],
   "source": [
    "wind_spec = Window.partitionBy(\"order_id\").orderBy(col(\"order_reference_timestamp\").desc())\n",
    "\n",
    "orders = (\n",
    "    order_raw.alias(\"o\")\n",
    "    .drop(\"cpf\",\"customer_name\")\n",
    "    .distinct()\n",
    "    .filter(\n",
    "        (col(\"customer_id\").isNotNull()) & \n",
    "        (col(\"order_total_amount\") != 0) \n",
    "    ) \n",
    "    .join(\n",
    "        ab_test.alias(\"ab\"),\n",
    "        col(\"ab.customer_id\") == col(\"o.customer_id\"),\n",
    "        \"inner\"\n",
    "    )\n",
    "    .withColumns({\n",
    "        \"order_reference_timestamp\":to_timestamp(\"order_created_at\", \"yyyy-MM-dd'T'HH:mm:ss.SSS'Z'\"),\n",
    "        \"order_reference_timestamp_ts\":to_timestamp(\"order_scheduled_date\", \"yyyy-MM-dd'T'HH:mm:ss.SSS'Z'\")\n",
    "    })\n",
    "    .withColumn(\"rn\", row_number().over(wind_spec))\n",
    "    .filter(col(\"rn\") == 1)\n",
    "    .select(\n",
    "        \"o.customer_id\",\n",
    "        \"is_target\",\n",
    "        \"delivery_address_city\",\n",
    "        \"delivery_address_country\",\n",
    "        \"delivery_address_district\",\n",
    "        \"delivery_address_external_id\",\n",
    "        \"delivery_address_latitude\",\n",
    "        \"delivery_address_longitude\",\n",
    "        \"delivery_address_state\",\n",
    "        \"delivery_address_zip_code\",\n",
    "        \"items\",\n",
    "        \"merchant_id\",\n",
    "        \"merchant_latitude\",\n",
    "        \"merchant_longitude\",\n",
    "        \"merchant_timezone\",\n",
    "        \"order_reference_timestamp\",\n",
    "        \"order_id\",\n",
    "        \"order_scheduled\",\n",
    "        \"order_total_amount\",\n",
    "        \"origin_platform\",\n",
    "        col(\"order_reference_timestamp_ts\").alias(\"order_scheduled_date\"))\n",
    ")"
   ]
  },
  {
   "cell_type": "markdown",
   "metadata": {
    "application/vnd.databricks.v1+cell": {
     "cellMetadata": {},
     "inputWidgets": {},
     "nuid": "81281926-3ffc-4fab-9635-282bf8e917d0",
     "showTitle": false,
     "tableResultSettingsMap": {},
     "title": ""
    }
   },
   "source": [
    "##### Checagem de outliers"
   ]
  },
  {
   "cell_type": "code",
   "execution_count": 0,
   "metadata": {
    "application/vnd.databricks.v1+cell": {
     "cellMetadata": {
      "byteLimit": 2048000,
      "rowLimit": 10000
     },
     "inputWidgets": {},
     "nuid": "61f9bb23-1225-4f99-affc-fd32bbf9b02b",
     "showTitle": false,
     "tableResultSettingsMap": {},
     "title": ""
    }
   },
   "outputs": [
    {
     "output_type": "display_data",
     "data": {
      "text/html": [
       "<style scoped>\n",
       "  .table-result-container {\n",
       "    max-height: 300px;\n",
       "    overflow: auto;\n",
       "  }\n",
       "  table, th, td {\n",
       "    border: 1px solid black;\n",
       "    border-collapse: collapse;\n",
       "  }\n",
       "  th, td {\n",
       "    padding: 5px;\n",
       "  }\n",
       "  th {\n",
       "    text-align: left;\n",
       "  }\n",
       "</style><div class='table-result-container'><table class='table-result'><thead style='background-color: white'><tr><th>summary</th><th>order_total_amount</th></tr></thead><tbody><tr><td>count</td><td>2427313</td></tr><tr><td>mean</td><td>47.85628797775041</td></tr><tr><td>stddev</td><td>101.3985272559612</td></tr><tr><td>min</td><td>0.01</td></tr><tr><td>max</td><td>138750.9</td></tr></tbody></table></div>"
      ]
     },
     "metadata": {
      "application/vnd.databricks.v1+output": {
       "addedWidgets": {},
       "aggData": [],
       "aggError": "",
       "aggOverflow": false,
       "aggSchema": [],
       "aggSeriesLimitReached": false,
       "aggType": "",
       "arguments": {},
       "columnCustomDisplayInfos": {},
       "data": [
        [
         "count",
         "2427313"
        ],
        [
         "mean",
         "47.85628797775041"
        ],
        [
         "stddev",
         "101.3985272559612"
        ],
        [
         "min",
         "0.01"
        ],
        [
         "max",
         "138750.9"
        ]
       ],
       "datasetInfos": [],
       "dbfsResultPath": null,
       "isJsonSchema": true,
       "metadata": {},
       "overflow": false,
       "plotOptions": {
        "customPlotOptions": {},
        "displayType": "table",
        "pivotAggregation": null,
        "pivotColumns": null,
        "xColumns": null,
        "yColumns": null
       },
       "removedWidgets": [],
       "schema": [
        {
         "metadata": "{}",
         "name": "summary",
         "type": "\"string\""
        },
        {
         "metadata": "{}",
         "name": "order_total_amount",
         "type": "\"string\""
        }
       ],
       "type": "table"
      }
     },
     "output_type": "display_data"
    }
   ],
   "source": [
    "orders.describe(\"order_total_amount\").display()"
   ]
  },
  {
   "cell_type": "code",
   "execution_count": 0,
   "metadata": {
    "application/vnd.databricks.v1+cell": {
     "cellMetadata": {
      "byteLimit": 2048000,
      "rowLimit": 10000
     },
     "inputWidgets": {},
     "nuid": "266cced3-46a9-4433-9739-ff23a958368b",
     "showTitle": false,
     "tableResultSettingsMap": {},
     "title": ""
    }
   },
   "outputs": [
    {
     "output_type": "stream",
     "name": "stdout",
     "output_type": "stream",
     "text": [
      "Q1: 27.0\nMedian: 39.8\nQ3: 57.4\nIQR: 30.4\nLimites: inferior=-18.60, superior=103.00\nNúmero de outliers: 139572\n"
     ]
    }
   ],
   "source": [
    "orders_outliers = metricas_iqr(df = orders, coluna = \"order_total_amount\")"
   ]
  },
  {
   "cell_type": "markdown",
   "metadata": {
    "application/vnd.databricks.v1+cell": {
     "cellMetadata": {},
     "inputWidgets": {},
     "nuid": "d8dfa044-ea8a-432a-bb0e-1ef524d54c92",
     "showTitle": false,
     "tableResultSettingsMap": {},
     "title": ""
    }
   },
   "source": [
    "O método IQR considera orders com valores acima de R$103,00 como outlier. No entanto, pedidos com valores acima de R$103 ainda são factíveis. Desse modo, observei como estava o comportamento do grupo de outliers."
   ]
  },
  {
   "cell_type": "code",
   "execution_count": 0,
   "metadata": {
    "application/vnd.databricks.v1+cell": {
     "cellMetadata": {
      "byteLimit": 2048000,
      "rowLimit": 10000
     },
     "inputWidgets": {},
     "nuid": "2cfd4e69-c945-49dc-801d-59eb7e2c6105",
     "showTitle": false,
     "tableResultSettingsMap": {},
     "title": ""
    }
   },
   "outputs": [
    {
     "output_type": "display_data",
     "data": {
      "text/html": [
       "<style scoped>\n",
       "  .table-result-container {\n",
       "    max-height: 300px;\n",
       "    overflow: auto;\n",
       "  }\n",
       "  table, th, td {\n",
       "    border: 1px solid black;\n",
       "    border-collapse: collapse;\n",
       "  }\n",
       "  th, td {\n",
       "    padding: 5px;\n",
       "  }\n",
       "  th {\n",
       "    text-align: left;\n",
       "  }\n",
       "</style><div class='table-result-container'><table class='table-result'><thead style='background-color: white'><tr><th>summary</th><th>order_total_amount</th></tr></thead><tbody><tr><td>count</td><td>139572</td></tr><tr><td>mean</td><td>149.56600822514426</td></tr><tr><td>stddev</td><td>401.3824459386856</td></tr><tr><td>min</td><td>103.01</td></tr><tr><td>max</td><td>138750.9</td></tr></tbody></table></div>"
      ]
     },
     "metadata": {
      "application/vnd.databricks.v1+output": {
       "addedWidgets": {},
       "aggData": [],
       "aggError": "",
       "aggOverflow": false,
       "aggSchema": [],
       "aggSeriesLimitReached": false,
       "aggType": "",
       "arguments": {},
       "columnCustomDisplayInfos": {},
       "data": [
        [
         "count",
         "139572"
        ],
        [
         "mean",
         "149.56600822514426"
        ],
        [
         "stddev",
         "401.3824459386856"
        ],
        [
         "min",
         "103.01"
        ],
        [
         "max",
         "138750.9"
        ]
       ],
       "datasetInfos": [],
       "dbfsResultPath": null,
       "isJsonSchema": true,
       "metadata": {},
       "overflow": false,
       "plotOptions": {
        "customPlotOptions": {},
        "displayType": "table",
        "pivotAggregation": null,
        "pivotColumns": null,
        "xColumns": null,
        "yColumns": null
       },
       "removedWidgets": [],
       "schema": [
        {
         "metadata": "{}",
         "name": "summary",
         "type": "\"string\""
        },
        {
         "metadata": "{}",
         "name": "order_total_amount",
         "type": "\"string\""
        }
       ],
       "type": "table"
      }
     },
     "output_type": "display_data"
    }
   ],
   "source": [
    "orders_outliers.describe(\"order_total_amount\").display()"
   ]
  },
  {
   "cell_type": "code",
   "execution_count": 0,
   "metadata": {
    "application/vnd.databricks.v1+cell": {
     "cellMetadata": {
      "byteLimit": 2048000,
      "rowLimit": 10000
     },
     "inputWidgets": {},
     "nuid": "fdc850a9-f17a-4ff6-8e4f-c2fb93f1a13e",
     "showTitle": false,
     "tableResultSettingsMap": {},
     "title": ""
    }
   },
   "outputs": [
    {
     "output_type": "stream",
     "name": "stdout",
     "output_type": "stream",
     "text": [
      "Q1: 113.6\nMedian: 129.5\nQ3: 158.0\nIQR: 44.400000000000006\nLimites: inferior=47.00, superior=224.60\nNúmero de outliers: 9916\nOut[38]: DataFrame[customer_id: string, is_target: string, delivery_address_city: string, delivery_address_country: string, delivery_address_district: string, delivery_address_external_id: string, delivery_address_latitude: string, delivery_address_longitude: string, delivery_address_state: string, delivery_address_zip_code: string, items: string, merchant_id: string, merchant_latitude: string, merchant_longitude: string, merchant_timezone: string, order_reference_timestamp: timestamp, order_id: string, order_scheduled: boolean, order_total_amount: double, origin_platform: string, order_scheduled_date: timestamp]"
     ]
    }
   ],
   "source": [
    "metricas_iqr(df = orders_outliers, coluna = \"order_total_amount\")"
   ]
  },
  {
   "cell_type": "markdown",
   "metadata": {
    "application/vnd.databricks.v1+cell": {
     "cellMetadata": {},
     "inputWidgets": {},
     "nuid": "01c7e43c-2c66-4789-99ce-95f0ec55ea06",
     "showTitle": false,
     "tableResultSettingsMap": {},
     "title": ""
    }
   },
   "source": [
    "Ao observar as métricas do grupo de outliers, o limite superior pelo método IQR continua apresentando um valor baixo (comparado a valores factíveis de pedidos em delivery de restaurantes). \\\n",
    "Desse modo, optou-se por retirar da base order_id de pedidos cujo order_total_amount são superiores a R$1.000,00 (59 orders).\n"
   ]
  },
  {
   "cell_type": "code",
   "execution_count": 0,
   "metadata": {
    "application/vnd.databricks.v1+cell": {
     "cellMetadata": {
      "byteLimit": 2048000,
      "rowLimit": 10000
     },
     "inputWidgets": {},
     "nuid": "6a8cdde7-01f0-46e6-a947-7b2ac56d14ab",
     "showTitle": false,
     "tableResultSettingsMap": {},
     "title": ""
    }
   },
   "outputs": [],
   "source": [
    "df_orders = orders.filter(col(\"order_total_amount\") <= 1000)"
   ]
  },
  {
   "cell_type": "markdown",
   "metadata": {
    "application/vnd.databricks.v1+cell": {
     "cellMetadata": {},
     "inputWidgets": {},
     "nuid": "9e9cc2bb-205d-40a0-9ea4-add0cb3b9d6b",
     "showTitle": false,
     "tableResultSettingsMap": {},
     "title": ""
    }
   },
   "source": [
    "#### Dados de Restaurantes"
   ]
  },
  {
   "cell_type": "code",
   "execution_count": 0,
   "metadata": {
    "application/vnd.databricks.v1+cell": {
     "cellMetadata": {
      "byteLimit": 2048000,
      "rowLimit": 10000
     },
     "inputWidgets": {},
     "nuid": "c08c75e3-b892-4387-8798-2fe3ecca7949",
     "showTitle": false,
     "tableResultSettingsMap": {},
     "title": ""
    }
   },
   "outputs": [
    {
     "output_type": "display_data",
     "data": {
      "text/html": [
       "<style scoped>\n",
       "  .table-result-container {\n",
       "    max-height: 300px;\n",
       "    overflow: auto;\n",
       "  }\n",
       "  table, th, td {\n",
       "    border: 1px solid black;\n",
       "    border-collapse: collapse;\n",
       "  }\n",
       "  th, td {\n",
       "    padding: 5px;\n",
       "  }\n",
       "  th {\n",
       "    text-align: left;\n",
       "  }\n",
       "</style><div class='table-result-container'><table class='table-result'><thead style='background-color: white'><tr><th>id</th><th>n_rows</th></tr></thead><tbody></tbody></table></div>"
      ]
     },
     "metadata": {
      "application/vnd.databricks.v1+output": {
       "addedWidgets": {},
       "aggData": [],
       "aggError": "",
       "aggOverflow": false,
       "aggSchema": [],
       "aggSeriesLimitReached": false,
       "aggType": "",
       "arguments": {},
       "columnCustomDisplayInfos": {},
       "data": [],
       "datasetInfos": [],
       "dbfsResultPath": null,
       "isJsonSchema": true,
       "metadata": {},
       "overflow": false,
       "plotOptions": {
        "customPlotOptions": {},
        "displayType": "table",
        "pivotAggregation": null,
        "pivotColumns": null,
        "xColumns": null,
        "yColumns": null
       },
       "removedWidgets": [],
       "schema": [
        {
         "metadata": "{}",
         "name": "id",
         "type": "\"string\""
        },
        {
         "metadata": "{}",
         "name": "n_rows",
         "type": "\"long\""
        }
       ],
       "type": "table"
      }
     },
     "output_type": "display_data"
    }
   ],
   "source": [
    "restaurant.groupBy(\"id\").agg(count(\"*\").alias(\"n_rows\")).filter(col(\"n_rows\") > 1).display()"
   ]
  },
  {
   "cell_type": "markdown",
   "metadata": {
    "application/vnd.databricks.v1+cell": {
     "cellMetadata": {},
     "inputWidgets": {},
     "nuid": "2472620c-0bcd-49e8-a1bb-ae2e2814da2d",
     "showTitle": false,
     "tableResultSettingsMap": {},
     "title": ""
    }
   },
   "source": [
    "#### Dados de usuários"
   ]
  },
  {
   "cell_type": "code",
   "execution_count": 0,
   "metadata": {
    "application/vnd.databricks.v1+cell": {
     "cellMetadata": {
      "byteLimit": 2048000,
      "rowLimit": 10000
     },
     "inputWidgets": {},
     "nuid": "5ad79091-f6b2-400b-bd1b-4568c86a0a0c",
     "showTitle": false,
     "tableResultSettingsMap": {},
     "title": ""
    }
   },
   "outputs": [
    {
     "output_type": "display_data",
     "data": {
      "text/html": [
       "<style scoped>\n",
       "  .table-result-container {\n",
       "    max-height: 300px;\n",
       "    overflow: auto;\n",
       "  }\n",
       "  table, th, td {\n",
       "    border: 1px solid black;\n",
       "    border-collapse: collapse;\n",
       "  }\n",
       "  th, td {\n",
       "    padding: 5px;\n",
       "  }\n",
       "  th {\n",
       "    text-align: left;\n",
       "  }\n",
       "</style><div class='table-result-container'><table class='table-result'><thead style='background-color: white'><tr><th>customer_id</th><th>n_rows</th></tr></thead><tbody></tbody></table></div>"
      ]
     },
     "metadata": {
      "application/vnd.databricks.v1+output": {
       "addedWidgets": {},
       "aggData": [],
       "aggError": "",
       "aggOverflow": false,
       "aggSchema": [],
       "aggSeriesLimitReached": false,
       "aggType": "",
       "arguments": {},
       "columnCustomDisplayInfos": {},
       "data": [],
       "datasetInfos": [],
       "dbfsResultPath": null,
       "isJsonSchema": true,
       "metadata": {},
       "overflow": false,
       "plotOptions": {
        "customPlotOptions": {},
        "displayType": "table",
        "pivotAggregation": null,
        "pivotColumns": null,
        "xColumns": null,
        "yColumns": null
       },
       "removedWidgets": [],
       "schema": [
        {
         "metadata": "{}",
         "name": "customer_id",
         "type": "\"string\""
        },
        {
         "metadata": "{}",
         "name": "n_rows",
         "type": "\"long\""
        }
       ],
       "type": "table"
      }
     },
     "output_type": "display_data"
    }
   ],
   "source": [
    "consumer_raw.groupBy(\"customer_id\").agg(count(\"*\").alias(\"n_rows\")).filter(col(\"n_rows\") > 1).display()"
   ]
  },
  {
   "cell_type": "code",
   "execution_count": 0,
   "metadata": {
    "application/vnd.databricks.v1+cell": {
     "cellMetadata": {
      "byteLimit": 2048000,
      "rowLimit": 10000
     },
     "inputWidgets": {},
     "nuid": "ab93daf1-edee-468c-91b9-e65cf93e1ddd",
     "showTitle": false,
     "tableResultSettingsMap": {},
     "title": ""
    }
   },
   "outputs": [],
   "source": [
    "df_consumer = (consumer_raw\n",
    "    .drop(\"customer_name\",\"customer_phone_number\")\n",
    ")"
   ]
  },
  {
   "cell_type": "markdown",
   "metadata": {
    "application/vnd.databricks.v1+cell": {
     "cellMetadata": {},
     "inputWidgets": {},
     "nuid": "0e335915-f20c-4464-b43b-c4169ebf7793",
     "showTitle": false,
     "tableResultSettingsMap": {},
     "title": ""
    }
   },
   "source": [
    "### Escritas"
   ]
  },
  {
   "cell_type": "code",
   "execution_count": 0,
   "metadata": {
    "application/vnd.databricks.v1+cell": {
     "cellMetadata": {
      "byteLimit": 2048000,
      "rowLimit": 10000
     },
     "inputWidgets": {},
     "nuid": "bd085dab-cfde-4a57-b98b-537dbefe03fc",
     "showTitle": false,
     "tableResultSettingsMap": {},
     "title": ""
    }
   },
   "outputs": [],
   "source": [
    "df_orders.write.mode(\"overwrite\").format(\"delta\").save(\"/FileStore/iFood/dataset/orders_tratado/\")\n",
    "df_consumer.write.mode(\"overwrite\").format(\"delta\").save(\"/FileStore/iFood/dataset/consumer_tratado/\")\n",
    "ab_test.write.mode(\"overwrite\").format(\"delta\").save(\"/FileStore/iFood/dataset/ab_tratado\")\n",
    "restaurant.write.mode(\"overwrite\").format(\"delta\").save(\"/FileStore/iFood/dataset/restaurant_tratado\")"
   ]
  },
  {
   "cell_type": "markdown",
   "metadata": {
    "application/vnd.databricks.v1+cell": {
     "cellMetadata": {},
     "inputWidgets": {},
     "nuid": "ed35611b-c1a6-4cbf-a159-8024c09ac45b",
     "showTitle": false,
     "tableResultSettingsMap": {},
     "title": ""
    }
   },
   "source": [
    "Obs.: Ao longo do código deixei alguns displays que não seriam necessários em um ambiente produtivo. "
   ]
  }
 ],
 "metadata": {
  "application/vnd.databricks.v1+notebook": {
   "computePreferences": null,
   "dashboards": [],
   "environmentMetadata": {
    "base_environment": "",
    "environment_version": "1"
   },
   "inputWidgetPreferences": null,
   "language": "python",
   "notebookMetadata": {
    "pythonIndentUnit": 4
   },
   "notebookName": "Tratamento dos dados",
   "widgets": {}
  }
 },
 "nbformat": 4,
 "nbformat_minor": 0
}